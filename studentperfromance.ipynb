{
 "cells": [
  {
   "cell_type": "code",
   "execution_count": 1,
   "id": "5d99133c",
   "metadata": {
    "_cell_guid": "b1076dfc-b9ad-4769-8c92-a6c4dae69d19",
    "_uuid": "8f2839f25d086af736a60e9eeb907d3b93b6e0e5",
    "execution": {
     "iopub.execute_input": "2023-05-16T04:39:57.858991Z",
     "iopub.status.busy": "2023-05-16T04:39:57.858611Z",
     "iopub.status.idle": "2023-05-16T04:39:57.877932Z",
     "shell.execute_reply": "2023-05-16T04:39:57.876951Z"
    },
    "papermill": {
     "duration": 0.032827,
     "end_time": "2023-05-16T04:39:57.880714",
     "exception": false,
     "start_time": "2023-05-16T04:39:57.847887",
     "status": "completed"
    },
    "tags": []
   },
   "outputs": [
    {
     "name": "stdout",
     "output_type": "stream",
     "text": [
      "/kaggle/input/predict-student-performance-from-game-play/sample_submission.csv\n",
      "/kaggle/input/predict-student-performance-from-game-play/train_labels.csv\n",
      "/kaggle/input/predict-student-performance-from-game-play/train.csv\n",
      "/kaggle/input/predict-student-performance-from-game-play/test.csv\n",
      "/kaggle/input/predict-student-performance-from-game-play/jo_wilder_310/competition.cpython-310-x86_64-linux-gnu.so\n",
      "/kaggle/input/predict-student-performance-from-game-play/jo_wilder_310/__init__.py\n",
      "/kaggle/input/predict-student-performance-from-game-play/jo_wilder/competition.cpython-37m-x86_64-linux-gnu.so\n",
      "/kaggle/input/predict-student-performance-from-game-play/jo_wilder/__init__.py\n"
     ]
    }
   ],
   "source": [
    "# This Python 3 environment comes with many helpful analytics libraries installed\n",
    "# It is defined by the kaggle/python Docker image: https://github.com/kaggle/docker-python\n",
    "# For example, here's several helpful packages to load\n",
    "\n",
    "import numpy as np # linear algebra\n",
    "import pandas as pd # data processing, CSV file I/O (e.g. pd.read_csv)\n",
    "\n",
    "# Input data files are available in the read-only \"../input/\" directory\n",
    "# For example, running this (by clicking run or pressing Shift+Enter) will list all files under the input directory\n",
    "\n",
    "import os\n",
    "for dirname, _, filenames in os.walk('/kaggle/input'):\n",
    "    for filename in filenames:\n",
    "        print(os.path.join(dirname, filename))\n",
    "\n",
    "# You can write up to 20GB to the current directory (/kaggle/working/) that gets preserved as output when you create a version using \"Save & Run All\" \n",
    "# You can also write temporary files to /kaggle/temp/, but they won't be saved outside of the current session"
   ]
  },
  {
   "cell_type": "code",
   "execution_count": 2,
   "id": "f1aaad1f",
   "metadata": {
    "execution": {
     "iopub.execute_input": "2023-05-16T04:39:57.897787Z",
     "iopub.status.busy": "2023-05-16T04:39:57.896908Z",
     "iopub.status.idle": "2023-05-16T04:39:59.169201Z",
     "shell.execute_reply": "2023-05-16T04:39:59.168230Z"
    },
    "papermill": {
     "duration": 1.283575,
     "end_time": "2023-05-16T04:39:59.171786",
     "exception": false,
     "start_time": "2023-05-16T04:39:57.888211",
     "status": "completed"
    },
    "tags": []
   },
   "outputs": [],
   "source": [
    "import pandas as pd, numpy as np, gc\n",
    "from sklearn.model_selection import KFold, GroupKFold\n",
    "from xgboost import XGBClassifier\n",
    "from sklearn.metrics import f1_score\n"
   ]
  },
  {
   "cell_type": "code",
   "execution_count": null,
   "id": "3136f6a7",
   "metadata": {
    "papermill": {
     "duration": 0.00695,
     "end_time": "2023-05-16T04:39:59.186040",
     "exception": false,
     "start_time": "2023-05-16T04:39:59.179090",
     "status": "completed"
    },
    "tags": []
   },
   "outputs": [],
   "source": []
  },
  {
   "cell_type": "code",
   "execution_count": 3,
   "id": "f16b276f",
   "metadata": {
    "execution": {
     "iopub.execute_input": "2023-05-16T04:39:59.203001Z",
     "iopub.status.busy": "2023-05-16T04:39:59.202184Z",
     "iopub.status.idle": "2023-05-16T04:39:59.218343Z",
     "shell.execute_reply": "2023-05-16T04:39:59.217420Z"
    },
    "papermill": {
     "duration": 0.027451,
     "end_time": "2023-05-16T04:39:59.220835",
     "exception": false,
     "start_time": "2023-05-16T04:39:59.193384",
     "status": "completed"
    },
    "tags": []
   },
   "outputs": [],
   "source": [
    "#read sample submission \n",
    "df_test = pd.read_csv(\"/kaggle/input/predict-student-performance-from-game-play/sample_submission.csv\")\n",
    "#df_test.head(50)\n"
   ]
  },
  {
   "cell_type": "code",
   "execution_count": 4,
   "id": "e8fe915e",
   "metadata": {
    "execution": {
     "iopub.execute_input": "2023-05-16T04:39:59.237283Z",
     "iopub.status.busy": "2023-05-16T04:39:59.236540Z",
     "iopub.status.idle": "2023-05-16T04:39:59.271794Z",
     "shell.execute_reply": "2023-05-16T04:39:59.270739Z"
    },
    "papermill": {
     "duration": 0.04641,
     "end_time": "2023-05-16T04:39:59.274431",
     "exception": false,
     "start_time": "2023-05-16T04:39:59.228021",
     "status": "completed"
    },
    "tags": []
   },
   "outputs": [],
   "source": [
    "#read test.csv\n",
    "df_test = pd.read_csv(\"/kaggle/input/predict-student-performance-from-game-play/test.csv\")\n",
    "#df_test.tail(50)\n"
   ]
  },
  {
   "cell_type": "code",
   "execution_count": 5,
   "id": "6026c0ec",
   "metadata": {
    "execution": {
     "iopub.execute_input": "2023-05-16T04:39:59.291185Z",
     "iopub.status.busy": "2023-05-16T04:39:59.290423Z",
     "iopub.status.idle": "2023-05-16T04:41:06.328955Z",
     "shell.execute_reply": "2023-05-16T04:41:06.328084Z"
    },
    "papermill": {
     "duration": 67.056419,
     "end_time": "2023-05-16T04:41:06.338214",
     "exception": false,
     "start_time": "2023-05-16T04:39:59.281795",
     "status": "completed"
    },
    "tags": []
   },
   "outputs": [
    {
     "data": {
      "text/html": [
       "<div>\n",
       "<style scoped>\n",
       "    .dataframe tbody tr th:only-of-type {\n",
       "        vertical-align: middle;\n",
       "    }\n",
       "\n",
       "    .dataframe tbody tr th {\n",
       "        vertical-align: top;\n",
       "    }\n",
       "\n",
       "    .dataframe thead th {\n",
       "        text-align: right;\n",
       "    }\n",
       "</style>\n",
       "<table border=\"1\" class=\"dataframe\">\n",
       "  <thead>\n",
       "    <tr style=\"text-align: right;\">\n",
       "      <th></th>\n",
       "      <th>session_id</th>\n",
       "    </tr>\n",
       "  </thead>\n",
       "  <tbody>\n",
       "    <tr>\n",
       "      <th>0</th>\n",
       "      <td>20090312431273200</td>\n",
       "    </tr>\n",
       "    <tr>\n",
       "      <th>1</th>\n",
       "      <td>20090312431273200</td>\n",
       "    </tr>\n",
       "    <tr>\n",
       "      <th>2</th>\n",
       "      <td>20090312431273200</td>\n",
       "    </tr>\n",
       "    <tr>\n",
       "      <th>3</th>\n",
       "      <td>20090312431273200</td>\n",
       "    </tr>\n",
       "    <tr>\n",
       "      <th>4</th>\n",
       "      <td>20090312431273200</td>\n",
       "    </tr>\n",
       "    <tr>\n",
       "      <th>...</th>\n",
       "      <td>...</td>\n",
       "    </tr>\n",
       "    <tr>\n",
       "      <th>26296941</th>\n",
       "      <td>22100221145014656</td>\n",
       "    </tr>\n",
       "    <tr>\n",
       "      <th>26296942</th>\n",
       "      <td>22100221145014656</td>\n",
       "    </tr>\n",
       "    <tr>\n",
       "      <th>26296943</th>\n",
       "      <td>22100221145014656</td>\n",
       "    </tr>\n",
       "    <tr>\n",
       "      <th>26296944</th>\n",
       "      <td>22100221145014656</td>\n",
       "    </tr>\n",
       "    <tr>\n",
       "      <th>26296945</th>\n",
       "      <td>22100221145014656</td>\n",
       "    </tr>\n",
       "  </tbody>\n",
       "</table>\n",
       "<p>26296946 rows × 1 columns</p>\n",
       "</div>"
      ],
      "text/plain": [
       "                 session_id\n",
       "0         20090312431273200\n",
       "1         20090312431273200\n",
       "2         20090312431273200\n",
       "3         20090312431273200\n",
       "4         20090312431273200\n",
       "...                     ...\n",
       "26296941  22100221145014656\n",
       "26296942  22100221145014656\n",
       "26296943  22100221145014656\n",
       "26296944  22100221145014656\n",
       "26296945  22100221145014656\n",
       "\n",
       "[26296946 rows x 1 columns]"
      ]
     },
     "execution_count": 5,
     "metadata": {},
     "output_type": "execute_result"
    }
   ],
   "source": [
    "df= pd.read_csv(\"/kaggle/input/predict-student-performance-from-game-play/train.csv\",usecols=[0])\n",
    "#len(df)\n",
    "df"
   ]
  },
  {
   "cell_type": "code",
   "execution_count": 6,
   "id": "71011220",
   "metadata": {
    "execution": {
     "iopub.execute_input": "2023-05-16T04:41:06.354716Z",
     "iopub.status.busy": "2023-05-16T04:41:06.354072Z",
     "iopub.status.idle": "2023-05-16T04:41:06.948817Z",
     "shell.execute_reply": "2023-05-16T04:41:06.947627Z"
    },
    "papermill": {
     "duration": 0.605757,
     "end_time": "2023-05-16T04:41:06.951179",
     "exception": false,
     "start_time": "2023-05-16T04:41:06.345422",
     "status": "completed"
    },
    "tags": []
   },
   "outputs": [
    {
     "name": "stdout",
     "output_type": "stream",
     "text": [
      "2357\n",
      "To avoid memory error, we will read the dataset in 10 pieces of sizes:\n",
      "[2684191, 2631991, 2638304, 2657670, 2644229, 2629801, 2596616, 2602258, 2619995, 2591891]\n"
     ]
    }
   ],
   "source": [
    "df = df.groupby('session_id').session_id.agg('count')\n",
    "\n",
    "# COMPUTE READS AND SKIPS\n",
    "PIECES = 10\n",
    "CHUNK = int( np.ceil(len(df)/PIECES) )\n",
    "print(CHUNK)\n",
    "\n",
    "reads = []\n",
    "skips = [0]\n",
    "for k in range(PIECES):\n",
    "    a = k*CHUNK\n",
    "    b = (k+1)*CHUNK\n",
    "    if b>len(df): b=len(df)\n",
    "    r = df.iloc[a:b].sum()\n",
    "    reads.append(r)\n",
    "    skips.append(skips[-1]+r)\n",
    "    \n",
    "print(f'To avoid memory error, we will read the dataset in {PIECES} pieces of sizes:')\n",
    "print(reads)"
   ]
  },
  {
   "cell_type": "code",
   "execution_count": 7,
   "id": "e2fa9e9b",
   "metadata": {
    "execution": {
     "iopub.execute_input": "2023-05-16T04:41:06.969339Z",
     "iopub.status.busy": "2023-05-16T04:41:06.968565Z",
     "iopub.status.idle": "2023-05-16T04:41:13.730499Z",
     "shell.execute_reply": "2023-05-16T04:41:13.728990Z"
    },
    "papermill": {
     "duration": 6.774938,
     "end_time": "2023-05-16T04:41:13.733517",
     "exception": false,
     "start_time": "2023-05-16T04:41:06.958579",
     "status": "completed"
    },
    "tags": []
   },
   "outputs": [
    {
     "name": "stdout",
     "output_type": "stream",
     "text": [
      "Train size of first piece: (2684191, 20)\n"
     ]
    }
   ],
   "source": [
    "train = pd.read_csv('/kaggle/input/predict-student-performance-from-game-play/train.csv', nrows=reads[0])\n",
    "print('Train size of first piece:', train.shape )\n",
    "\n",
    "#train = train[train[\"session_id\"] ==20090312431273200]\n",
    "#train.head(60)"
   ]
  },
  {
   "cell_type": "code",
   "execution_count": 8,
   "id": "0a7d5119",
   "metadata": {
    "execution": {
     "iopub.execute_input": "2023-05-16T04:41:13.752874Z",
     "iopub.status.busy": "2023-05-16T04:41:13.750519Z",
     "iopub.status.idle": "2023-05-16T04:41:13.756479Z",
     "shell.execute_reply": "2023-05-16T04:41:13.755574Z"
    },
    "papermill": {
     "duration": 0.017369,
     "end_time": "2023-05-16T04:41:13.758765",
     "exception": false,
     "start_time": "2023-05-16T04:41:13.741396",
     "status": "completed"
    },
    "tags": []
   },
   "outputs": [],
   "source": [
    "#train['lag'] = train.elapsed_time.diff(1)"
   ]
  },
  {
   "cell_type": "code",
   "execution_count": 9,
   "id": "caba0a49",
   "metadata": {
    "execution": {
     "iopub.execute_input": "2023-05-16T04:41:13.776545Z",
     "iopub.status.busy": "2023-05-16T04:41:13.775359Z",
     "iopub.status.idle": "2023-05-16T04:41:14.867712Z",
     "shell.execute_reply": "2023-05-16T04:41:14.866753Z"
    },
    "papermill": {
     "duration": 1.104255,
     "end_time": "2023-05-16T04:41:14.870699",
     "exception": false,
     "start_time": "2023-05-16T04:41:13.766444",
     "status": "completed"
    },
    "tags": []
   },
   "outputs": [],
   "source": [
    "targets = pd.read_csv('/kaggle/input/predict-student-performance-from-game-play/train_labels.csv')\n",
    "targets['session'] = targets.session_id.apply(lambda x: int(x.split('_')[0]) )\n",
    "targets['q'] = targets.session_id.apply(lambda x: int(x.split('_')[-1][1:]) )\n",
    "#print( targets.shape )\n",
    "#targets.head()"
   ]
  },
  {
   "cell_type": "code",
   "execution_count": 10,
   "id": "2a9bae16",
   "metadata": {
    "execution": {
     "iopub.execute_input": "2023-05-16T04:41:14.888288Z",
     "iopub.status.busy": "2023-05-16T04:41:14.887617Z",
     "iopub.status.idle": "2023-05-16T04:41:14.891819Z",
     "shell.execute_reply": "2023-05-16T04:41:14.890842Z"
    },
    "papermill": {
     "duration": 0.01571,
     "end_time": "2023-05-16T04:41:14.894056",
     "exception": false,
     "start_time": "2023-05-16T04:41:14.878346",
     "status": "completed"
    },
    "tags": []
   },
   "outputs": [],
   "source": [
    "#"
   ]
  },
  {
   "cell_type": "code",
   "execution_count": 11,
   "id": "7dc36ae0",
   "metadata": {
    "execution": {
     "iopub.execute_input": "2023-05-16T04:41:14.911418Z",
     "iopub.status.busy": "2023-05-16T04:41:14.910714Z",
     "iopub.status.idle": "2023-05-16T04:41:14.916180Z",
     "shell.execute_reply": "2023-05-16T04:41:14.915215Z"
    },
    "papermill": {
     "duration": 0.016865,
     "end_time": "2023-05-16T04:41:14.918560",
     "exception": false,
     "start_time": "2023-05-16T04:41:14.901695",
     "status": "completed"
    },
    "tags": []
   },
   "outputs": [],
   "source": [
    "CATS =   ['event_name', 'fqid', 'room_fqid', 'text']\n",
    "NUMS =   ['elapsed_time','level','page','room_coor_x', 'room_coor_y', \n",
    "        'screen_coor_x', 'screen_coor_y', 'hover_duration']\n",
    "EVENTS = ['navigate_click','person_click','cutscene_click','object_click',\n",
    "          'map_hover','notification_click','map_click','observation_click',\n",
    "          'checkpoint']"
   ]
  },
  {
   "cell_type": "code",
   "execution_count": 12,
   "id": "7de83817",
   "metadata": {
    "execution": {
     "iopub.execute_input": "2023-05-16T04:41:14.936174Z",
     "iopub.status.busy": "2023-05-16T04:41:14.935378Z",
     "iopub.status.idle": "2023-05-16T04:41:14.945596Z",
     "shell.execute_reply": "2023-05-16T04:41:14.944382Z"
    },
    "papermill": {
     "duration": 0.022227,
     "end_time": "2023-05-16T04:41:14.948487",
     "exception": false,
     "start_time": "2023-05-16T04:41:14.926260",
     "status": "completed"
    },
    "tags": []
   },
   "outputs": [],
   "source": [
    "def feature_engineer(train):\n",
    "    \n",
    "    dfs = []\n",
    "    for c in CATS:\n",
    "        tmp = train.groupby(['session_id','level_group'])[c].agg('nunique')\n",
    "        tmp.name = tmp.name + '_nunique'\n",
    "        dfs.append(tmp)\n",
    "    for c in NUMS:\n",
    "        tmp = train.groupby(['session_id','level_group'])[c].agg('mean')\n",
    "        tmp.name = tmp.name + '_mean'\n",
    "        dfs.append(tmp)\n",
    "    for c in NUMS:\n",
    "        tmp = train.groupby(['session_id','level_group'])[c].agg('std')\n",
    "        tmp.name = tmp.name + '_std'\n",
    "        dfs.append(tmp)\n",
    "    for c in EVENTS: \n",
    "        train[c] = (train.event_name == c).astype('int8')\n",
    "    for c in EVENTS + ['elapsed_time']:\n",
    "        tmp = train.groupby(['session_id','level_group'])[c].agg('sum')\n",
    "        tmp.name = tmp.name + '_sum'\n",
    "        dfs.append(tmp)\n",
    "    train = train.drop(EVENTS,axis=1)\n",
    "        \n",
    "    df = pd.concat(dfs,axis=1)\n",
    "    df = df.fillna(-1)\n",
    "    df = df.reset_index()\n",
    "    df = df.set_index('session_id')\n",
    "    return df"
   ]
  },
  {
   "cell_type": "code",
   "execution_count": 13,
   "id": "4de840ce",
   "metadata": {
    "execution": {
     "iopub.execute_input": "2023-05-16T04:41:14.966065Z",
     "iopub.status.busy": "2023-05-16T04:41:14.965267Z",
     "iopub.status.idle": "2023-05-16T04:41:14.969618Z",
     "shell.execute_reply": "2023-05-16T04:41:14.968598Z"
    },
    "papermill": {
     "duration": 0.015732,
     "end_time": "2023-05-16T04:41:14.971862",
     "exception": false,
     "start_time": "2023-05-16T04:41:14.956130",
     "status": "completed"
    },
    "tags": []
   },
   "outputs": [],
   "source": [
    "#feature_engineer(train)"
   ]
  },
  {
   "cell_type": "code",
   "execution_count": 14,
   "id": "c3854b4d",
   "metadata": {
    "execution": {
     "iopub.execute_input": "2023-05-16T04:41:14.989502Z",
     "iopub.status.busy": "2023-05-16T04:41:14.988690Z",
     "iopub.status.idle": "2023-05-16T04:46:57.271266Z",
     "shell.execute_reply": "2023-05-16T04:46:57.270171Z"
    },
    "papermill": {
     "duration": 342.294835,
     "end_time": "2023-05-16T04:46:57.274324",
     "exception": false,
     "start_time": "2023-05-16T04:41:14.979489",
     "status": "completed"
    },
    "tags": []
   },
   "outputs": [
    {
     "name": "stdout",
     "output_type": "stream",
     "text": [
      "Processing train as 10 pieces to avoid memory error... \n",
      "0 , 1 , 2 , 3 , 4 , 5 , 6 , 7 , 8 , 9 , \n",
      "\n",
      "Shape of all train data after feature engineering: (70686, 31)\n",
      "CPU times: user 4min 51s, sys: 21.6 s, total: 5min 12s\n",
      "Wall time: 5min 42s\n"
     ]
    },
    {
     "data": {
      "text/html": [
       "<div>\n",
       "<style scoped>\n",
       "    .dataframe tbody tr th:only-of-type {\n",
       "        vertical-align: middle;\n",
       "    }\n",
       "\n",
       "    .dataframe tbody tr th {\n",
       "        vertical-align: top;\n",
       "    }\n",
       "\n",
       "    .dataframe thead th {\n",
       "        text-align: right;\n",
       "    }\n",
       "</style>\n",
       "<table border=\"1\" class=\"dataframe\">\n",
       "  <thead>\n",
       "    <tr style=\"text-align: right;\">\n",
       "      <th></th>\n",
       "      <th>level_group</th>\n",
       "      <th>event_name_nunique</th>\n",
       "      <th>fqid_nunique</th>\n",
       "      <th>room_fqid_nunique</th>\n",
       "      <th>text_nunique</th>\n",
       "      <th>elapsed_time_mean</th>\n",
       "      <th>level_mean</th>\n",
       "      <th>page_mean</th>\n",
       "      <th>room_coor_x_mean</th>\n",
       "      <th>room_coor_y_mean</th>\n",
       "      <th>...</th>\n",
       "      <th>navigate_click_sum</th>\n",
       "      <th>person_click_sum</th>\n",
       "      <th>cutscene_click_sum</th>\n",
       "      <th>object_click_sum</th>\n",
       "      <th>map_hover_sum</th>\n",
       "      <th>notification_click_sum</th>\n",
       "      <th>map_click_sum</th>\n",
       "      <th>observation_click_sum</th>\n",
       "      <th>checkpoint_sum</th>\n",
       "      <th>elapsed_time_sum</th>\n",
       "    </tr>\n",
       "    <tr>\n",
       "      <th>session_id</th>\n",
       "      <th></th>\n",
       "      <th></th>\n",
       "      <th></th>\n",
       "      <th></th>\n",
       "      <th></th>\n",
       "      <th></th>\n",
       "      <th></th>\n",
       "      <th></th>\n",
       "      <th></th>\n",
       "      <th></th>\n",
       "      <th></th>\n",
       "      <th></th>\n",
       "      <th></th>\n",
       "      <th></th>\n",
       "      <th></th>\n",
       "      <th></th>\n",
       "      <th></th>\n",
       "      <th></th>\n",
       "      <th></th>\n",
       "      <th></th>\n",
       "      <th></th>\n",
       "    </tr>\n",
       "  </thead>\n",
       "  <tbody>\n",
       "    <tr>\n",
       "      <th>20090312431273200</th>\n",
       "      <td>0-4</td>\n",
       "      <td>10</td>\n",
       "      <td>30</td>\n",
       "      <td>7</td>\n",
       "      <td>56</td>\n",
       "      <td>8.579356e+04</td>\n",
       "      <td>1.945455</td>\n",
       "      <td>-1.0</td>\n",
       "      <td>7.701275</td>\n",
       "      <td>-71.413749</td>\n",
       "      <td>...</td>\n",
       "      <td>81.0</td>\n",
       "      <td>22.0</td>\n",
       "      <td>28.0</td>\n",
       "      <td>11.0</td>\n",
       "      <td>4.0</td>\n",
       "      <td>8</td>\n",
       "      <td>2.0</td>\n",
       "      <td>4</td>\n",
       "      <td>1</td>\n",
       "      <td>14155937</td>\n",
       "    </tr>\n",
       "    <tr>\n",
       "      <th>20090312431273200</th>\n",
       "      <td>13-22</td>\n",
       "      <td>10</td>\n",
       "      <td>49</td>\n",
       "      <td>12</td>\n",
       "      <td>168</td>\n",
       "      <td>1.040601e+06</td>\n",
       "      <td>17.402381</td>\n",
       "      <td>-1.0</td>\n",
       "      <td>-130.347170</td>\n",
       "      <td>-162.004310</td>\n",
       "      <td>...</td>\n",
       "      <td>170.0</td>\n",
       "      <td>123.0</td>\n",
       "      <td>60.0</td>\n",
       "      <td>20.0</td>\n",
       "      <td>14.0</td>\n",
       "      <td>10</td>\n",
       "      <td>6.0</td>\n",
       "      <td>3</td>\n",
       "      <td>1</td>\n",
       "      <td>437052322</td>\n",
       "    </tr>\n",
       "    <tr>\n",
       "      <th>20090312431273200</th>\n",
       "      <td>5-12</td>\n",
       "      <td>10</td>\n",
       "      <td>39</td>\n",
       "      <td>11</td>\n",
       "      <td>124</td>\n",
       "      <td>3.572052e+05</td>\n",
       "      <td>8.054054</td>\n",
       "      <td>-1.0</td>\n",
       "      <td>14.306062</td>\n",
       "      <td>-57.269322</td>\n",
       "      <td>...</td>\n",
       "      <td>103.0</td>\n",
       "      <td>104.0</td>\n",
       "      <td>12.0</td>\n",
       "      <td>28.0</td>\n",
       "      <td>9.0</td>\n",
       "      <td>9</td>\n",
       "      <td>8.0</td>\n",
       "      <td>1</td>\n",
       "      <td>1</td>\n",
       "      <td>105732736</td>\n",
       "    </tr>\n",
       "    <tr>\n",
       "      <th>20090312433251036</th>\n",
       "      <td>0-4</td>\n",
       "      <td>11</td>\n",
       "      <td>22</td>\n",
       "      <td>6</td>\n",
       "      <td>49</td>\n",
       "      <td>9.763342e+04</td>\n",
       "      <td>1.870504</td>\n",
       "      <td>0.0</td>\n",
       "      <td>-84.045960</td>\n",
       "      <td>-53.671082</td>\n",
       "      <td>...</td>\n",
       "      <td>49.0</td>\n",
       "      <td>18.0</td>\n",
       "      <td>36.0</td>\n",
       "      <td>15.0</td>\n",
       "      <td>3.0</td>\n",
       "      <td>5</td>\n",
       "      <td>3.0</td>\n",
       "      <td>2</td>\n",
       "      <td>1</td>\n",
       "      <td>13571045</td>\n",
       "    </tr>\n",
       "    <tr>\n",
       "      <th>20090312433251036</th>\n",
       "      <td>13-22</td>\n",
       "      <td>11</td>\n",
       "      <td>73</td>\n",
       "      <td>16</td>\n",
       "      <td>183</td>\n",
       "      <td>2.498852e+06</td>\n",
       "      <td>17.762529</td>\n",
       "      <td>5.1</td>\n",
       "      <td>-30.762282</td>\n",
       "      <td>-142.861892</td>\n",
       "      <td>...</td>\n",
       "      <td>637.0</td>\n",
       "      <td>145.0</td>\n",
       "      <td>65.0</td>\n",
       "      <td>83.0</td>\n",
       "      <td>186.0</td>\n",
       "      <td>14</td>\n",
       "      <td>45.0</td>\n",
       "      <td>5</td>\n",
       "      <td>1</td>\n",
       "      <td>3241011333</td>\n",
       "    </tr>\n",
       "  </tbody>\n",
       "</table>\n",
       "<p>5 rows × 31 columns</p>\n",
       "</div>"
      ],
      "text/plain": [
       "                  level_group  event_name_nunique  fqid_nunique  \\\n",
       "session_id                                                        \n",
       "20090312431273200         0-4                  10            30   \n",
       "20090312431273200       13-22                  10            49   \n",
       "20090312431273200        5-12                  10            39   \n",
       "20090312433251036         0-4                  11            22   \n",
       "20090312433251036       13-22                  11            73   \n",
       "\n",
       "                   room_fqid_nunique  text_nunique  elapsed_time_mean  \\\n",
       "session_id                                                              \n",
       "20090312431273200                  7            56       8.579356e+04   \n",
       "20090312431273200                 12           168       1.040601e+06   \n",
       "20090312431273200                 11           124       3.572052e+05   \n",
       "20090312433251036                  6            49       9.763342e+04   \n",
       "20090312433251036                 16           183       2.498852e+06   \n",
       "\n",
       "                   level_mean  page_mean  room_coor_x_mean  room_coor_y_mean  \\\n",
       "session_id                                                                     \n",
       "20090312431273200    1.945455       -1.0          7.701275        -71.413749   \n",
       "20090312431273200   17.402381       -1.0       -130.347170       -162.004310   \n",
       "20090312431273200    8.054054       -1.0         14.306062        -57.269322   \n",
       "20090312433251036    1.870504        0.0        -84.045960        -53.671082   \n",
       "20090312433251036   17.762529        5.1        -30.762282       -142.861892   \n",
       "\n",
       "                   ...  navigate_click_sum  person_click_sum  \\\n",
       "session_id         ...                                         \n",
       "20090312431273200  ...                81.0              22.0   \n",
       "20090312431273200  ...               170.0             123.0   \n",
       "20090312431273200  ...               103.0             104.0   \n",
       "20090312433251036  ...                49.0              18.0   \n",
       "20090312433251036  ...               637.0             145.0   \n",
       "\n",
       "                   cutscene_click_sum  object_click_sum  map_hover_sum  \\\n",
       "session_id                                                               \n",
       "20090312431273200                28.0              11.0            4.0   \n",
       "20090312431273200                60.0              20.0           14.0   \n",
       "20090312431273200                12.0              28.0            9.0   \n",
       "20090312433251036                36.0              15.0            3.0   \n",
       "20090312433251036                65.0              83.0          186.0   \n",
       "\n",
       "                   notification_click_sum  map_click_sum  \\\n",
       "session_id                                                 \n",
       "20090312431273200                       8            2.0   \n",
       "20090312431273200                      10            6.0   \n",
       "20090312431273200                       9            8.0   \n",
       "20090312433251036                       5            3.0   \n",
       "20090312433251036                      14           45.0   \n",
       "\n",
       "                   observation_click_sum  checkpoint_sum  elapsed_time_sum  \n",
       "session_id                                                                  \n",
       "20090312431273200                      4               1          14155937  \n",
       "20090312431273200                      3               1         437052322  \n",
       "20090312431273200                      1               1         105732736  \n",
       "20090312433251036                      2               1          13571045  \n",
       "20090312433251036                      5               1        3241011333  \n",
       "\n",
       "[5 rows x 31 columns]"
      ]
     },
     "execution_count": 14,
     "metadata": {},
     "output_type": "execute_result"
    }
   ],
   "source": [
    "%%time\n",
    "\n",
    "# PROCESS TRAIN DATA IN PIECES\n",
    "all_pieces = []\n",
    "print(f'Processing train as {PIECES} pieces to avoid memory error... ')\n",
    "for k in range(PIECES):\n",
    "    print(k,', ',end='')\n",
    "    SKIPS = 0\n",
    "    if k>0: SKIPS = range(1,skips[k]+1)\n",
    "    train = pd.read_csv('/kaggle/input/predict-student-performance-from-game-play/train.csv',\n",
    "                        nrows=reads[k], skiprows=SKIPS)\n",
    "    df = feature_engineer(train)\n",
    "    all_pieces.append(df)\n",
    "    \n",
    "# CONCATENATE ALL PIECES\n",
    "print('\\n')\n",
    "del train; gc.collect()\n",
    "df = pd.concat(all_pieces, axis=0)\n",
    "print('Shape of all train data after feature engineering:', df.shape )\n",
    "df.head()"
   ]
  },
  {
   "cell_type": "code",
   "execution_count": 15,
   "id": "7dc2b9ee",
   "metadata": {
    "execution": {
     "iopub.execute_input": "2023-05-16T04:46:57.294714Z",
     "iopub.status.busy": "2023-05-16T04:46:57.294016Z",
     "iopub.status.idle": "2023-05-16T04:46:57.298167Z",
     "shell.execute_reply": "2023-05-16T04:46:57.297227Z"
    },
    "papermill": {
     "duration": 0.017372,
     "end_time": "2023-05-16T04:46:57.300590",
     "exception": false,
     "start_time": "2023-05-16T04:46:57.283218",
     "status": "completed"
    },
    "tags": []
   },
   "outputs": [],
   "source": [
    "#groups=df.index\n",
    "#if df.level_group = '0-4'\n",
    "#elif df.level_group = '5-12'\n",
    "#elif df.level_group = '13-22'\n",
    "\n"
   ]
  },
  {
   "cell_type": "code",
   "execution_count": 16,
   "id": "725fc590",
   "metadata": {
    "execution": {
     "iopub.execute_input": "2023-05-16T04:46:57.320824Z",
     "iopub.status.busy": "2023-05-16T04:46:57.319999Z",
     "iopub.status.idle": "2023-05-16T04:46:57.332225Z",
     "shell.execute_reply": "2023-05-16T04:46:57.330953Z"
    },
    "papermill": {
     "duration": 0.025374,
     "end_time": "2023-05-16T04:46:57.334890",
     "exception": false,
     "start_time": "2023-05-16T04:46:57.309516",
     "status": "completed"
    },
    "tags": []
   },
   "outputs": [],
   "source": [
    "FEATURES = [c for c in df.columns if c != 'level_group']\n",
    "#print('We will train with', len(FEATURES) ,'features')\n",
    "ALL_USERS = df.index.unique()\n",
    "#print('We will train with', len(ALL_USERS) ,'users info')"
   ]
  },
  {
   "cell_type": "code",
   "execution_count": 17,
   "id": "dc36670e",
   "metadata": {
    "execution": {
     "iopub.execute_input": "2023-05-16T04:46:57.355406Z",
     "iopub.status.busy": "2023-05-16T04:46:57.354678Z",
     "iopub.status.idle": "2023-05-16T04:49:33.541128Z",
     "shell.execute_reply": "2023-05-16T04:49:33.539912Z"
    },
    "papermill": {
     "duration": 156.199842,
     "end_time": "2023-05-16T04:49:33.543532",
     "exception": false,
     "start_time": "2023-05-16T04:46:57.343690",
     "status": "completed"
    },
    "tags": []
   },
   "outputs": [
    {
     "name": "stdout",
     "output_type": "stream",
     "text": [
      "#########################\n",
      "### Fold 1\n",
      "#########################\n",
      "1(169), 2(174), 3(141), 4(234), 5(131), 6(152), 7(76), 8(83), 9(193), 10(262), 11(126), 12(101), 13(141), 14(327), 15(215), 16(64), 17(62), 18(137), \n",
      "#########################\n",
      "### Fold 2\n",
      "#########################\n",
      "1(126), 2(159), 3(99), 4(224), 5(95), 6(115), 7(111), 8(57), 9(141), 10(206), 11(207), 12(131), 13(93), 14(215), 15(232), 16(89), 17(69), 18(112), \n",
      "#########################\n",
      "### Fold 3\n",
      "#########################\n",
      "1(215), 2(118), 3(121), 4(197), 5(167), 6(175), 7(120), 8(62), 9(132), 10(121), 11(71), 12(86), 13(87), 14(210), 15(255), 16(75), 17(96), 18(159), \n",
      "#########################\n",
      "### Fold 4\n",
      "#########################\n",
      "1(151), 2(135), 3(99), 4(242), 5(177), 6(145), 7(155), 8(107), 9(128), 10(127), 11(105), 12(99), 13(160), 14(295), 15(262), 16(64), 17(60), 18(196), \n",
      "#########################\n",
      "### Fold 5\n",
      "#########################\n",
      "1(126), 2(117), 3(147), 4(242), 5(116), 6(117), 7(138), 8(63), 9(132), 10(152), 11(83), 12(84), 13(175), 14(128), 15(259), 16(54), 17(87), 18(157), \n"
     ]
    }
   ],
   "source": [
    "gkf = GroupKFold(n_splits=5)\n",
    "oof = pd.DataFrame(data=np.zeros((len(ALL_USERS),18)), index=ALL_USERS)\n",
    "models = {}\n",
    "\n",
    "# COMPUTE CV SCORE WITH 5 GROUP K FOLD\n",
    "for i, (train_index, test_index) in enumerate(gkf.split(X=df, groups=df.index)):\n",
    "    print('#'*25)\n",
    "    print('### Fold',i+1)\n",
    "    print('#'*25)\n",
    "    \n",
    "    xgb_params = {\n",
    "    'objective' : 'binary:logistic',\n",
    "    'eval_metric':'logloss',\n",
    "    'learning_rate': 0.05,\n",
    "    'max_depth': 4,\n",
    "    'n_estimators': 1000,\n",
    "    'early_stopping_rounds': 50,\n",
    "    'tree_method':'hist',\n",
    "    'subsample':0.8,\n",
    "    'colsample_bytree': 0.4,\n",
    "    'use_label_encoder' : False}\n",
    "    \n",
    "    # ITERATE THRU QUESTIONS 1 THRU 18\n",
    "    for t in range(1,19):\n",
    "        \n",
    "        # USE THIS TRAIN DATA WITH THESE QUESTIONS\n",
    "        if t<=3: grp = '0-4'\n",
    "        elif t<=13: grp = '5-12'\n",
    "        elif t<=22: grp = '13-22'\n",
    "            \n",
    "        # TRAIN DATA\n",
    "        train_x = df.iloc[train_index]\n",
    "        train_x = train_x.loc[train_x.level_group == grp]\n",
    "        train_users = train_x.index.values\n",
    "        train_y = targets.loc[targets.q==t].set_index('session').loc[train_users]\n",
    "        \n",
    "        # VALID DATA\n",
    "        valid_x = df.iloc[test_index]\n",
    "        valid_x = valid_x.loc[valid_x.level_group == grp]\n",
    "        valid_users = valid_x.index.values\n",
    "        valid_y = targets.loc[targets.q==t].set_index('session').loc[valid_users]\n",
    "        \n",
    "        # TRAIN MODEL        \n",
    "        clf =  XGBClassifier(**xgb_params)\n",
    "        clf.fit(train_x[FEATURES].astype('float32'), train_y['correct'],\n",
    "                eval_set=[ (valid_x[FEATURES].astype('float32'), valid_y['correct']) ],\n",
    "                verbose=0)\n",
    "        print(f'{t}({clf.best_ntree_limit}), ',end='')\n",
    "        \n",
    "        # SAVE MODEL, PREDICT VALID OOF\n",
    "        models[f'{grp}_{t}'] = clf\n",
    "        oof.loc[valid_users, t-1] = clf.predict_proba(valid_x[FEATURES].astype('float32'))[:,1]\n",
    "        \n",
    "    print()"
   ]
  },
  {
   "cell_type": "code",
   "execution_count": 18,
   "id": "5c6bbab1",
   "metadata": {
    "execution": {
     "iopub.execute_input": "2023-05-16T04:49:33.575414Z",
     "iopub.status.busy": "2023-05-16T04:49:33.574277Z",
     "iopub.status.idle": "2023-05-16T04:49:33.695807Z",
     "shell.execute_reply": "2023-05-16T04:49:33.694650Z"
    },
    "papermill": {
     "duration": 0.140167,
     "end_time": "2023-05-16T04:49:33.698558",
     "exception": false,
     "start_time": "2023-05-16T04:49:33.558391",
     "status": "completed"
    },
    "tags": []
   },
   "outputs": [],
   "source": [
    "# PUT TRUE LABELS INTO DATAFRAME WITH 18 COLUMNS\n",
    "true = oof.copy()\n",
    "for k in range(18):\n",
    "    # GET TRUE LABELS\n",
    "    tmp = targets.loc[targets.q == k+1].set_index('session').loc[ALL_USERS]\n",
    "    true[k] = tmp.correct.values"
   ]
  },
  {
   "cell_type": "code",
   "execution_count": 19,
   "id": "9efafc33",
   "metadata": {
    "execution": {
     "iopub.execute_input": "2023-05-16T04:49:33.729544Z",
     "iopub.status.busy": "2023-05-16T04:49:33.728830Z",
     "iopub.status.idle": "2023-05-16T04:49:40.266720Z",
     "shell.execute_reply": "2023-05-16T04:49:40.265455Z"
    },
    "papermill": {
     "duration": 6.557061,
     "end_time": "2023-05-16T04:49:40.269776",
     "exception": false,
     "start_time": "2023-05-16T04:49:33.712715",
     "status": "completed"
    },
    "tags": []
   },
   "outputs": [
    {
     "name": "stdout",
     "output_type": "stream",
     "text": [
      "0.40, 0.41, 0.42, 0.43, 0.44, 0.45, 0.46, 0.47, 0.48, 0.49, 0.50, 0.51, 0.52, 0.53, 0.54, 0.55, 0.56, 0.57, 0.58, 0.59, 0.60, 0.61, 0.62, 0.63, 0.64, 0.65, 0.66, 0.67, 0.68, 0.69, 0.70, 0.71, 0.72, 0.73, 0.74, 0.75, 0.76, 0.77, 0.78, 0.79, 0.80, "
     ]
    }
   ],
   "source": [
    "# FIND BEST THRESHOLD TO CONVERT PROBS INTO 1s AND 0s\n",
    "scores = []; thresholds = []\n",
    "best_score = 0; best_threshold = 0\n",
    "\n",
    "for threshold in np.arange(0.4,0.81,0.01):\n",
    "    print(f'{threshold:.02f}, ',end='')\n",
    "    preds = (oof.values.reshape((-1))>threshold).astype('int')\n",
    "    m = f1_score(true.values.reshape((-1)), preds, average='macro')   \n",
    "    scores.append(m)\n",
    "    thresholds.append(threshold)\n",
    "    if m>best_score:\n",
    "        best_score = m\n",
    "        best_threshold = threshold"
   ]
  },
  {
   "cell_type": "code",
   "execution_count": 20,
   "id": "f8e352e0",
   "metadata": {
    "execution": {
     "iopub.execute_input": "2023-05-16T04:49:40.303018Z",
     "iopub.status.busy": "2023-05-16T04:49:40.302614Z",
     "iopub.status.idle": "2023-05-16T04:49:40.627760Z",
     "shell.execute_reply": "2023-05-16T04:49:40.626599Z"
    },
    "papermill": {
     "duration": 0.344806,
     "end_time": "2023-05-16T04:49:40.630347",
     "exception": false,
     "start_time": "2023-05-16T04:49:40.285541",
     "status": "completed"
    },
    "tags": []
   },
   "outputs": [
    {
     "data": {
      "image/png": "[encoded data removed]",
      "text/plain": [
       "<Figure size 2000x500 with 1 Axes>"
      ]
     },
     "metadata": {},
     "output_type": "display_data"
    }
   ],
   "source": [
    "import matplotlib.pyplot as plt\n",
    "\n",
    "# PLOT THRESHOLD VS. F1_SCORE\n",
    "plt.figure(figsize=(20,5))\n",
    "plt.plot(thresholds,scores,'-o',color='blue')\n",
    "plt.scatter([best_threshold], [best_score], color='blue', s=300, alpha=1)\n",
    "plt.xlabel('Threshold',size=14)\n",
    "plt.ylabel('Validation F1 Score',size=14)\n",
    "plt.title(f'Threshold vs. F1_Score with Best F1_Score = {best_score:.3f} at Best Threshold = {best_threshold:.3}',size=18)\n",
    "plt.show()\n",
    "\n"
   ]
  },
  {
   "cell_type": "code",
   "execution_count": 21,
   "id": "200be740",
   "metadata": {
    "execution": {
     "iopub.execute_input": "2023-05-16T04:49:40.668216Z",
     "iopub.status.busy": "2023-05-16T04:49:40.667785Z",
     "iopub.status.idle": "2023-05-16T04:49:40.672494Z",
     "shell.execute_reply": "2023-05-16T04:49:40.671567Z"
    },
    "papermill": {
     "duration": 0.026803,
     "end_time": "2023-05-16T04:49:40.675529",
     "exception": false,
     "start_time": "2023-05-16T04:49:40.648726",
     "status": "completed"
    },
    "tags": []
   },
   "outputs": [],
   "source": [
    "#print('When using optimal threshold...')\n",
    "#for k in range(18):\n",
    "        \n",
    "    # COMPUTE F1 SCORE PER QUESTION\n",
    " #   m = f1_score(true[k].values, (oof[k].values>best_threshold).astype('int'), average='macro')\n",
    " #   print(f'Q{k}: F1 =',m)\n",
    "    \n",
    "## COMPUTE F1 SCORE OVERALL\n",
    "#m = f1_score(true.values.reshape((-1)), (oof.values.reshape((-1))>best_threshold).astype('int'), average='macro')\n",
    "#print('==> Overall F1 =',m)"
   ]
  },
  {
   "cell_type": "code",
   "execution_count": 22,
   "id": "064c30f0",
   "metadata": {
    "execution": {
     "iopub.execute_input": "2023-05-16T04:49:40.710947Z",
     "iopub.status.busy": "2023-05-16T04:49:40.710190Z",
     "iopub.status.idle": "2023-05-16T04:49:40.872227Z",
     "shell.execute_reply": "2023-05-16T04:49:40.871125Z"
    },
    "papermill": {
     "duration": 0.182737,
     "end_time": "2023-05-16T04:49:40.874851",
     "exception": false,
     "start_time": "2023-05-16T04:49:40.692114",
     "status": "completed"
    },
    "tags": []
   },
   "outputs": [],
   "source": [
    "# IMPORT KAGGLE API\n",
    "import jo_wilder\n",
    "env = jo_wilder.make_env()\n",
    "iter_test = env.iter_test()\n",
    "\n",
    "# CLEAR MEMORY\n",
    "import gc\n",
    "del targets, df, oof, true\n",
    "_ = gc.collect()"
   ]
  },
  {
   "cell_type": "code",
   "execution_count": null,
   "id": "8ac73157",
   "metadata": {
    "papermill": {
     "duration": 0.01606,
     "end_time": "2023-05-16T04:49:40.907761",
     "exception": false,
     "start_time": "2023-05-16T04:49:40.891701",
     "status": "completed"
    },
    "tags": []
   },
   "outputs": [],
   "source": []
  },
  {
   "cell_type": "code",
   "execution_count": 23,
   "id": "a10f7479",
   "metadata": {
    "execution": {
     "iopub.execute_input": "2023-05-16T04:49:40.943767Z",
     "iopub.status.busy": "2023-05-16T04:49:40.942944Z",
     "iopub.status.idle": "2023-05-16T04:49:41.820664Z",
     "shell.execute_reply": "2023-05-16T04:49:41.819613Z"
    },
    "papermill": {
     "duration": 0.89842,
     "end_time": "2023-05-16T04:49:41.823404",
     "exception": false,
     "start_time": "2023-05-16T04:49:40.924984",
     "status": "completed"
    },
    "tags": []
   },
   "outputs": [
    {
     "name": "stdout",
     "output_type": "stream",
     "text": [
      "This version of the API is not optimized and should not be used to estimate the runtime of your code on the hidden test set.\n"
     ]
    }
   ],
   "source": [
    "limits = {'0-4':(1,4), '5-12':(4,14), '13-22':(14,19)}\n",
    "\n",
    "for (test, sample_submission) in iter_test:\n",
    "    \n",
    "    # FEATURE ENGINEER TEST DATA\n",
    "    df = feature_engineer(test)\n",
    "    \n",
    "    # INFER TEST DATA\n",
    "    grp = test.level_group.values[0]\n",
    "    a,b = limits[grp]\n",
    "    for t in range(a,b):\n",
    "        clf = models[f'{grp}_{t}']\n",
    "        p = clf.predict_proba(df[FEATURES].astype('float32'))[0,1]\n",
    "        mask = sample_submission.session_id.str.contains(f'q{t}')\n",
    "        sample_submission.loc[mask,'correct'] = int( p > best_threshold )\n",
    "    \n",
    "    env.predict(sample_submission)"
   ]
  },
  {
   "cell_type": "code",
   "execution_count": 24,
   "id": "fd26d17b",
   "metadata": {
    "execution": {
     "iopub.execute_input": "2023-05-16T04:49:41.859475Z",
     "iopub.status.busy": "2023-05-16T04:49:41.858605Z",
     "iopub.status.idle": "2023-05-16T04:49:41.865526Z",
     "shell.execute_reply": "2023-05-16T04:49:41.864574Z"
    },
    "papermill": {
     "duration": 0.028845,
     "end_time": "2023-05-16T04:49:41.868807",
     "exception": false,
     "start_time": "2023-05-16T04:49:41.839962",
     "status": "completed"
    },
    "tags": []
   },
   "outputs": [],
   "source": [
    "df = pd.read_csv('submission.csv')\n",
    "#print( df.shape )\n",
    "#df.head()"
   ]
  },
  {
   "cell_type": "code",
   "execution_count": 25,
   "id": "9a1c2090",
   "metadata": {
    "execution": {
     "iopub.execute_input": "2023-05-16T04:49:41.905327Z",
     "iopub.status.busy": "2023-05-16T04:49:41.904327Z",
     "iopub.status.idle": "2023-05-16T04:49:41.911753Z",
     "shell.execute_reply": "2023-05-16T04:49:41.910628Z"
    },
    "papermill": {
     "duration": 0.028689,
     "end_time": "2023-05-16T04:49:41.914104",
     "exception": false,
     "start_time": "2023-05-16T04:49:41.885415",
     "status": "completed"
    },
    "tags": []
   },
   "outputs": [
    {
     "name": "stdout",
     "output_type": "stream",
     "text": [
      "0.5740740740740741\n"
     ]
    }
   ],
   "source": [
    "print(df.correct.mean())"
   ]
  },
  {
   "cell_type": "code",
   "execution_count": null,
   "id": "9d0100df",
   "metadata": {
    "papermill": {
     "duration": 0.016465,
     "end_time": "2023-05-16T04:49:41.947500",
     "exception": false,
     "start_time": "2023-05-16T04:49:41.931035",
     "status": "completed"
    },
    "tags": []
   },
   "outputs": [],
   "source": []
  }
 ],
 "metadata": {
  "kernelspec": {
   "display_name": "Python 3",
   "language": "python",
   "name": "python3"
  },
  "language_info": {
   "codemirror_mode": {
    "name": "ipython",
    "version": 3
   },
   "file_extension": ".py",
   "mimetype": "text/x-python",
   "name": "python",
   "nbconvert_exporter": "python",
   "pygments_lexer": "ipython3",
   "version": "3.7.12"
  },
  "papermill": {
   "default_parameters": {},
   "duration": 596.378107,
   "end_time": "2023-05-16T04:49:42.892632",
   "environment_variables": {},
   "exception": null,
   "input_path": "__notebook__.ipynb",
   "output_path": "__notebook__.ipynb",
   "parameters": {},
   "start_time": "2023-05-16T04:39:46.514525",
   "version": "2.4.0"
  }
 },
 "nbformat": 4,
 "nbformat_minor": 5
}
