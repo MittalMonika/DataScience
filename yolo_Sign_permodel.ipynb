{
  "nbformat": 4,
  "nbformat_minor": 0,
  "metadata": {
    "colab": {
      "provenance": [],
      "gpuType": "T4",
      "authorship_tag": "ABX9TyMtVrbqYaXwfz4CfBq4xOHe",
      "include_colab_link": true
    },
    "kernelspec": {
      "name": "python3",
      "display_name": "Python 3"
    },
    "language_info": {
      "name": "python"
    }
  },
  "cells": [
    {
      "cell_type": "markdown",
      "metadata": {
        "id": "view-in-github",
        "colab_type": "text"
      },
      "source": [
        "<a href=\"https://colab.research.google.com/github/MittalMonika/DataScience/blob/master/yolo_Sign_permodel.ipynb\" target=\"_parent\"><img src=\"https://colab.research.google.com/assets/colab-badge.svg\" alt=\"Open In Colab\"/></a>"
      ]
    },
    {
      "cell_type": "code",
      "execution_count": null,
      "metadata": {
        "colab": {
          "base_uri": "https://localhost:8080/"
        },
        "id": "thl8xUts5byX",
        "outputId": "100b0950-a323-4a7a-8e32-9af324ccecfc"
      },
      "outputs": [
        {
          "output_type": "stream",
          "name": "stdout",
          "text": [
            "Mounted at /content/drive\n"
          ]
        }
      ],
      "source": [
        "from google.colab import drive\n",
        "drive.mount('/content/drive')"
      ]
    },
    {
      "cell_type": "code",
      "source": [
        "%cd /content/drive/MyDrive/\n",
        "import os"
      ],
      "metadata": {
        "colab": {
          "base_uri": "https://localhost:8080/"
        },
        "id": "PTTxd07k7zEg",
        "outputId": "2cc82b31-9c3f-438c-898b-5875f146d293"
      },
      "execution_count": 14,
      "outputs": [
        {
          "output_type": "stream",
          "name": "stdout",
          "text": [
            "/content/drive/MyDrive\n"
          ]
        }
      ]
    },
    {
      "cell_type": "code",
      "source": [
        "# copy content to install_required_packages.py\n",
        "# Run this script to install required packages\n",
        "!pip install requests PyPDF2 pytesseract pdf2image\n",
        "!sudo apt install tesseract-ocr\n",
        "!apt-get install poppler-utils\n",
        "!pip install ultralytics"
      ],
      "metadata": {
        "id": "ZM5z8hx2dGrK"
      },
      "execution_count": null,
      "outputs": []
    },
    {
      "cell_type": "code",
      "source": [
        "# main.py\n",
        "import os\n",
        "import requests\n",
        "from pdf2image import convert_from_path\n",
        "from PIL import Image, ImageDraw\n",
        "import random\n",
        "import shutil\n"
      ],
      "metadata": {
        "id": "BSv4T6xbTTNl"
      },
      "execution_count": 15,
      "outputs": []
    },
    {
      "cell_type": "code",
      "source": [
        "# Function to create directories\n",
        "def create_directories(base_path, sub_paths):\n",
        "    for path in sub_paths:\n",
        "        full_path = os.path.join(base_path, path)\n",
        "        os.makedirs(full_path, exist_ok=True)\n",
        "        print(f\"Directory created: {full_path}\")\n"
      ],
      "metadata": {
        "id": "3jnCmTlWdolV"
      },
      "execution_count": 16,
      "outputs": []
    },
    {
      "cell_type": "code",
      "source": [
        "# Function to download PDFs\n",
        "def download_pdfs(base_url, form_names, download_path):\n",
        "    for form in form_names:\n",
        "        pdf_url = f\"{base_url}/{form}.pdf\"\n",
        "        file_path = os.path.join(download_path, f\"{form}.pdf\")\n",
        "        if not os.path.exists(file_path):\n",
        "            response = requests.get(pdf_url)\n",
        "            if response.status_code == 200:\n",
        "                with open(file_path, 'wb') as file:\n",
        "                    file.write(response.content)\n",
        "                print(f\"Downloaded: {form}.pdf\")\n",
        "            else:\n",
        "                print(f\"Failed to download {form}.pdf\")"
      ],
      "metadata": {
        "id": "jMo83QvOdvcd"
      },
      "execution_count": 17,
      "outputs": []
    },
    {
      "cell_type": "code",
      "source": [
        "# Function to convert PDF to images\n",
        "def convert_pdf_to_images(pdf_path, output_dir, form_n):\n",
        "    images = convert_from_path(pdf_path)\n",
        "    for i, image in enumerate(images):\n",
        "        image_path = os.path.join(output_dir, f\"{form_n}_page_{i + 1}.png\")\n",
        "        image.save(image_path, \"PNG\")\n",
        "        print(f\"Saved image: {image_path}\")"
      ],
      "metadata": {
        "id": "vuk8fMh-dyM7"
      },
      "execution_count": 18,
      "outputs": []
    },
    {
      "cell_type": "code",
      "source": [
        "def crop_annotation(image_path, annotation):\n",
        "    # Load the image\n",
        "    image = Image.open(image_path)\n",
        "    img_width, img_height = image.size\n",
        "\n",
        "    # Parse the annotation\n",
        "    _, x_center, y_center, width, height = map(float, annotation.split())\n",
        "\n",
        "    # Convert YOLO format to pixel values\n",
        "    box_width = width * img_width\n",
        "    box_height = height * img_height\n",
        "    x_center *= img_width\n",
        "    y_center *= img_height\n",
        "\n",
        "    # Calculate top-left corner of the bounding box\n",
        "    x1 = int(x_center - box_width / 2)\n",
        "    y1 = int(y_center - box_height / 2)\n",
        "\n",
        "    # Crop the image\n",
        "    cropped_image = image.crop((x1, y1, x1 + int(box_width), y1 + int(box_height)))\n",
        "\n",
        "    return cropped_image"
      ],
      "metadata": {
        "id": "TWE5WZY8Nn4C"
      },
      "execution_count": 19,
      "outputs": []
    },
    {
      "cell_type": "code",
      "source": [
        "def paste_on_background(background_path, cropped_image, output_image_path,output_box_path, position):\n",
        "    background = Image.open(background_path)\n",
        "    background_width, background_height = background.size\n",
        "\n",
        "    # Create a copy of the background for drawing the bounding box\n",
        "    background_with_box = background.copy()\n",
        "\n",
        "\n",
        "    # Paste the cropped image onto the background at the specified position\n",
        "    background.paste(cropped_image, position, cropped_image if cropped_image.mode == 'RGBA' else None)\n",
        "    background_with_box.paste(cropped_image, position, cropped_image if cropped_image.mode == 'RGBA' else None)\n",
        "\n",
        "\n",
        "    # Draw bounding box for visualization (optional)\n",
        "    draw = ImageDraw.Draw(background_with_box)\n",
        "    x1, y1 = position\n",
        "    x2, y2 = x1 + cropped_image.width, y1 + cropped_image.height\n",
        "    draw.rectangle([x1, y1, x2, y2], outline=\"red\")\n",
        "\n",
        "    # Save the result\n",
        "    background.save(output_image_path)\n",
        "    background_with_box.save(output_box_path.replace('.png', '_bbox.png'))\n",
        "    print(f\"Saved images to {output_image_path} and {output_box_path.replace('.png', '_bbox.png')}\")\n",
        "\n",
        "\n",
        "    # Calculate YOLO format coordinates\n",
        "    bbox_x_center = (x1 + x2) / 2 / background_width\n",
        "    bbox_y_center = (y1 + y2) / 2 / background_height\n",
        "    bbox_width = cropped_image.width / background_width\n",
        "    bbox_height = cropped_image.height / background_height\n",
        "\n",
        "    yolo_format = (bbox_x_center, bbox_y_center, bbox_width, bbox_height)\n",
        "    return yolo_format"
      ],
      "metadata": {
        "id": "p2iW08XiUtFj"
      },
      "execution_count": 27,
      "outputs": []
    },
    {
      "cell_type": "code",
      "source": [
        "def process_images(output_dir, ipath, bpath, lpath, form_names):\n",
        "\n",
        "    # COMMENT :  need to automate this automatically takes the labesl from the file\n",
        "    # # give the co-ordinates of the sign box here with name of the\n",
        "\n",
        "    specialvar = form_names[0]\n",
        "    exclusion_pattern = specialvar + \"_page_1.png\"\n",
        "    document_paths = [os.path.join(output_dir, f) for f in os.listdir(output_dir) if f.endswith('_page_3.png') and f != exclusion_pattern]\n",
        "\n",
        "\n",
        "    label_image = \"0 0.506875 0.77578125 0.9265625 0.0898125\"\n",
        "    file_path = os.path.join(output_dir, specialvar + '_page_1.png')\n",
        "    cropped_image = crop_annotation(file_path, label_image)\n",
        "    cropped_image.save(os.path.join(bpath, 'cropped_image_' + specialvar + '.png'))\n",
        "\n",
        "    for doc_path in document_paths:\n",
        "        for i in range(20):\n",
        "            pos_y = random.randint(40, 2000)\n",
        "            position = (100, pos_y)\n",
        "            base_name = os.path.basename(doc_path).replace('.png', '')\n",
        "            output_image_path = os.path.join(ipath, f\"{base_name}_{specialvar}_{i}.png\")\n",
        "            output_box_path = os.path.join(bpath, f\"{base_name}_{specialvar}_{i}_bbox.png\")\n",
        "\n",
        "            yolo_coordinates = paste_on_background(doc_path, cropped_image, output_image_path, output_box_path, position)\n",
        "\n",
        "            with open(os.path.join(lpath, f\"{base_name}_{specialvar}_{i}.txt\"), 'w') as file:\n",
        "                file.write(f\"0 {yolo_coordinates[0]} {yolo_coordinates[1]} {yolo_coordinates[2]} {yolo_coordinates[3]}\")\n"
      ],
      "metadata": {
        "id": "CtW_Vl4mjML_"
      },
      "execution_count": 24,
      "outputs": []
    },
    {
      "cell_type": "code",
      "source": [
        "def copy_images_and_create_labels(output_dir, ipath, lpath):\n",
        "    document_paths = [os.path.join(output_dir, f) for f in os.listdir(output_dir)]\n",
        "\n",
        "    for doc_path in document_paths:\n",
        "        # Extract the base file name without page number and extension\n",
        "        base_file_name = os.path.basename(doc_path).rsplit('_', 2)[0]\n",
        "\n",
        "        page_num = 2  # Starting from the second page\n",
        "        while True:\n",
        "            # Construct the new page path\n",
        "            page_path = os.path.join(os.path.dirname(doc_path), f\"{base_file_name}_page_{page_num}.png\")\n",
        "            if not os.path.exists(page_path):\n",
        "                break  # Stop if the page does not exist\n",
        "\n",
        "            # Copy image to training images directory\n",
        "            dest_image_path = os.path.join(ipath, f\"{base_file_name}_page_{page_num}.png\")\n",
        "            shutil.copyfile(page_path, dest_image_path)\n",
        "\n",
        "            # Create an empty file in labels directory\n",
        "            with open(os.path.join(lpath, f\"{base_file_name}_page_{page_num}.txt\"), 'w') as file:\n",
        "                pass  # Empty file\n",
        "\n",
        "            page_num += 1\n",
        "\n",
        "    print(\"Images and labels have been successfully copied and created.\")\n"
      ],
      "metadata": {
        "id": "U_nQpuJ-lRIb"
      },
      "execution_count": 32,
      "outputs": []
    },
    {
      "cell_type": "code",
      "source": [
        "def prepare_validation_set(ipath, ivpath, lpath, lvpath, validation_ratio=0.2):\n",
        "    # Get a list of filenames in the training images directory\n",
        "    train_filenames = [os.path.splitext(f)[0] for f in os.listdir(ipath) if f.endswith('.png')]\n",
        "\n",
        "    # Calculate the number of images to move to validation\n",
        "    num_valid = int(len(train_filenames) * validation_ratio)\n",
        "\n",
        "    # Randomly select images for validation\n",
        "    valid_filenames = random.sample(train_filenames, num_valid)\n",
        "\n",
        "    # Copy selected images and their corresponding label files to validation directories\n",
        "    for filename in valid_filenames:\n",
        "        # Copy image\n",
        "        src_image_path = os.path.join(ipath, filename + '.png')\n",
        "        dst_image_path = os.path.join(ivpath, filename + '.png')\n",
        "        shutil.copyfile(src_image_path, dst_image_path)\n",
        "\n",
        "        # Copy label file\n",
        "        src_label_path = os.path.join(lpath, filename + '.txt')\n",
        "        dst_label_path = os.path.join(lvpath, filename + '.txt')\n",
        "        shutil.copyfile(src_label_path, dst_label_path)\n",
        "\n",
        "    print(f\"Copied {num_valid} images and their labels to the validation directories.\")\n"
      ],
      "metadata": {
        "id": "0qwkwkOZmiBX"
      },
      "execution_count": 34,
      "outputs": []
    },
    {
      "cell_type": "code",
      "source": [
        "def copy_specific_files_to_test(output_dir, itestpath, file_pattern):\n",
        "    for filename in os.listdir(output_dir):\n",
        "        if filename.endswith(file_pattern):\n",
        "            source_file_path = os.path.join(output_dir, filename)\n",
        "            destination_file_path = os.path.join(itestpath, filename)\n",
        "            shutil.copyfile(source_file_path, destination_file_path)\n",
        "            print(f\"Copied {filename} to {itestpath}\")"
      ],
      "metadata": {
        "id": "H_bCzlvcnUNu"
      },
      "execution_count": 36,
      "outputs": []
    },
    {
      "cell_type": "code",
      "source": [
        "import subprocess\n",
        "\n",
        "def train_yolo(model_path, data_yaml, epochs, img_size):\n",
        "    command = f\"yolo task=detect mode=train model={model_path} data={data_yaml} epochs={epochs} imgsz={img_size}\"\n",
        "    # to supress all the outputs on scree\n",
        "    #subprocess.run(command, shell=True)\n",
        "    process = subprocess.Popen(command, shell=True, stdout=subprocess.PIPE, stderr=subprocess.STDOUT)\n",
        "\n",
        "    # Print output in real-time\n",
        "    for line in iter(process.stdout.readline, b''):\n",
        "        print(line.decode().rstrip())\n",
        "\n",
        "    process.wait()\n",
        "\n",
        "def validate_yolo(model_path, data_yaml):\n",
        "    command = f\"yolo task=detect mode=val model={model_path} data={data_yaml}\"\n",
        "    #subprocess.run(command, shell=True)\n",
        "    process = subprocess.Popen(command, shell=True, stdout=subprocess.PIPE, stderr=subprocess.STDOUT)\n",
        "\n",
        "    # Print output in real-time\n",
        "    for line in iter(process.stdout.readline, b''):\n",
        "        print(line.decode().rstrip())\n",
        "\n",
        "    process.wait()\n",
        "\n",
        "def predict_yolo(model_path, source, output_dir, confidence):\n",
        "    command = f\"yolo task=detect mode=predict model={model_path} conf={confidence} source={source} name={output_dir} save_txt=True\"\n",
        "    #subprocess.run(command, shell=True)\n",
        "    process = subprocess.Popen(command, shell=True, stdout=subprocess.PIPE, stderr=subprocess.STDOUT)\n",
        "\n",
        "    # Print output in real-time\n",
        "    for line in iter(process.stdout.readline, b''):\n",
        "        print(line.decode().rstrip())\n",
        "\n",
        "    process.wait()\n",
        ""
      ],
      "metadata": {
        "id": "xhFF02JOoFqY"
      },
      "execution_count": 54,
      "outputs": []
    },
    {
      "cell_type": "code",
      "source": [
        "#Main function\n",
        "def main():\n",
        "    # Define base and download paths\n",
        "    base_path = os.path.join(os.getcwd(), \"yoloSign1\")\n",
        "    download_path = os.path.join(base_path, \"Pdf_document\")\n",
        "    output_dir = os.path.join(download_path, \"Pdf_To_Images\")\n",
        "\n",
        "    # Create directories\n",
        "    sub_paths = [\"Pdf_document\", \"Pdf_document/Pdf_To_Images\", \"train/images\", \"train/labels\", \"train/box_images\", \"test/images\", \"valid/images\", \"valid/labels\",\"detect\"]\n",
        "    create_directories(base_path, sub_paths)\n",
        "\n",
        "\n",
        "    tpath = base_path + \"/train\"\n",
        "    ipath =  tpath + \"/images/\"\n",
        "    lpath  = tpath + \"/labels/\"\n",
        "    bpath  =  tpath + \"/box_images/\"\n",
        "    testpath = base_path + \"/test\"\n",
        "    itestpath = testpath + \"/images/\"\n",
        "    vpath = base_path + \"/valid\"\n",
        "    ivpath = vpath + \"/images/\"\n",
        "    lvpath = vpath + \"/labels/\"\n",
        "    inf_dir =  base_path + \"/detect\"\n",
        "\n",
        "    # Define form names and URL\n",
        "    form_names = ['fw4', 'f3115', 'f1120ric', 'f1120pc', 'f1120', 'f8453']\n",
        "    base_url = \"https://www.irs.gov/pub/irs-pdf\"\n",
        "\n",
        "    # Download PDFs\n",
        "    download_pdfs(base_url, form_names, download_path)\n",
        "\n",
        "    # Convert downloaded PDFs to images\n",
        "    for form in form_names:\n",
        "          pdf_path = os.path.join(download_path, f\"{form}.pdf\")\n",
        "          convert_pdf_to_images(pdf_path, output_dir, form)\n",
        "\n",
        "    # Process images\n",
        "    process_images(output_dir, ipath, bpath, lpath, form_names)\n",
        "\n",
        "    # Copy images and create label files\n",
        "    copy_images_and_create_labels(output_dir, ipath, lpath)\n",
        "\n",
        "\n",
        "    # Prepare validation set\n",
        "    prepare_validation_set(ipath, ivpath, lpath, lvpath)\n",
        "\n",
        "\n",
        "    #Prepare test data\n",
        "    file_pattern = 'fw4_page_1.png'  # Define the specific file pattern to be copied\n",
        "    copy_specific_files_to_test(output_dir, itestpath, file_pattern)\n",
        "\n",
        "\n",
        "\n",
        "    ## Paths for YOLO model and data\n",
        "\n",
        "    # COMMENT :  need to think of how to create these data_yaml automatically\n",
        "    model_dir_train = base_path+\"yolo8_best.pt\"\n",
        "    data_yaml = base_path+\"/data.yaml\"\n",
        "\n",
        "    # Train YOLO model\n",
        "    train_yolo(model_dir_train, data_yaml, epochs=1, img_size=640)\n",
        "\n",
        "\n",
        "     # COMMENT : need to automate the output of yolo model file into a known place so that i can automate the path\n",
        "\n",
        "    # Validate model\n",
        "\n",
        "    model_dir = \"runs/detect/train9/weights/best.pt\"\n",
        "    validate_yolo(model_dir, data_yaml)\n",
        "\n",
        "    # Predict with model\n",
        "\n",
        "    predict_yolo(model_dir, itestpath, inf_dir, confidence=0.25)\n",
        "\n",
        "\n",
        "if __name__ == \"__main__\":\n",
        "    main()"
      ],
      "metadata": {
        "id": "mpPPoRELeF5V"
      },
      "execution_count": null,
      "outputs": []
    }
  ]
}