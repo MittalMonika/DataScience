{
 "cells": [
  {
   "cell_type": "markdown",
   "id": "920b0b08",
   "metadata": {
    "papermill": {
     "duration": 0.0029,
     "end_time": "2023-04-12T21:19:00.689079",
     "exception": false,
     "start_time": "2023-04-12T21:19:00.686179",
     "status": "completed"
    },
    "tags": []
   },
   "source": []
  },
  {
   "cell_type": "markdown",
   "id": "fd23d1e0",
   "metadata": {
    "papermill": {
     "duration": 0.001761,
     "end_time": "2023-04-12T21:19:00.693079",
     "exception": false,
     "start_time": "2023-04-12T21:19:00.691318",
     "status": "completed"
    },
    "tags": []
   },
   "source": [
    "# Exchange rate prediction (EUR/USD)\n",
    "\n",
    "Exchange rate prediction is a complex problem that requires expertise in time series analysis, statistical modeling, and machine learning. This makes it a challenging but rewarding project that can help develop a range of skills and knowledge. The EUR/USD exchange rate is one of the most widely traded and influential currency pairs in the world. Predicting changes in this exchange rate can be useful for a wide range of stakeholders, from investors and traders to policymakers and economists. and moreover as i have been living in FFrance last 10 years and recently move to USA so this analysis can give insights\n",
    "\n",
    "Historical data on the EUR/USD exchange rate is readily available from a variety of sources, making it easy to collect and preprocess for analysis and for today it get it from Yahoo\n",
    "https://finance.yahoo.com/quote/EURUSD=X/history/ for the last one year (April 11,2022 to April,11 2023). The main aim of this analysis would be to do the real time forecast using data streaming and saving it to Cassandra.  "
   ]
  },
  {
   "cell_type": "code",
   "execution_count": null,
   "id": "5782a76b",
   "metadata": {
    "papermill": {
     "duration": 0.0016,
     "end_time": "2023-04-12T21:19:00.696550",
     "exception": false,
     "start_time": "2023-04-12T21:19:00.694950",
     "status": "completed"
    },
    "tags": []
   },
   "outputs": [],
   "source": []
  },
  {
   "cell_type": "raw",
   "id": "4f6a466b",
   "metadata": {
    "papermill": {
     "duration": 0.001548,
     "end_time": "2023-04-12T21:19:00.699841",
     "exception": false,
     "start_time": "2023-04-12T21:19:00.698293",
     "status": "completed"
    },
    "tags": []
   },
   "source": [
    "import numpy as np \n",
    "import pandas as pd"
   ]
  },
  {
   "cell_type": "code",
   "execution_count": null,
   "id": "d3db2b2f",
   "metadata": {
    "papermill": {
     "duration": 0.001538,
     "end_time": "2023-04-12T21:19:00.703121",
     "exception": false,
     "start_time": "2023-04-12T21:19:00.701583",
     "status": "completed"
    },
    "tags": []
   },
   "outputs": [],
   "source": []
  },
  {
   "cell_type": "markdown",
   "id": "9488c3db",
   "metadata": {
    "papermill": {
     "duration": 0.001579,
     "end_time": "2023-04-12T21:19:00.706412",
     "exception": false,
     "start_time": "2023-04-12T21:19:00.704833",
     "status": "completed"
    },
    "tags": []
   },
   "source": []
  },
  {
   "cell_type": "code",
   "execution_count": 1,
   "id": "6825e967",
   "metadata": {
    "_cell_guid": "b1076dfc-b9ad-4769-8c92-a6c4dae69d19",
    "_uuid": "8f2839f25d086af736a60e9eeb907d3b93b6e0e5",
    "execution": {
     "iopub.execute_input": "2023-04-12T21:19:00.712297Z",
     "iopub.status.busy": "2023-04-12T21:19:00.711505Z",
     "iopub.status.idle": "2023-04-12T21:19:00.726639Z",
     "shell.execute_reply": "2023-04-12T21:19:00.725830Z"
    },
    "papermill": {
     "duration": 0.020569,
     "end_time": "2023-04-12T21:19:00.728682",
     "exception": false,
     "start_time": "2023-04-12T21:19:00.708113",
     "status": "completed"
    },
    "tags": []
   },
   "outputs": [
    {
     "name": "stdout",
     "output_type": "stream",
     "text": [
      "/kaggle/input/eurusd-1year2223/EURUSD.csv\n"
     ]
    }
   ],
   "source": [
    "# This Python 3 environment comes with many helpful analytics libraries installed\n",
    "# It is defined by the kaggle/python Docker image: https://github.com/kaggle/docker-python\n",
    "# For example, here's several helpful packages to load\n",
    "\n",
    "import numpy as np # linear algebra\n",
    "import pandas as pd # data processing, CSV file I/O (e.g. pd.read_csv)\n",
    "\n",
    "# Input data files are available in the read-only \"../input/\" directory\n",
    "# For example, running this (by clicking run or pressing Shift+Enter) will list all files under the input directory\n",
    "\n",
    "import os\n",
    "for dirname, _, filenames in os.walk('/kaggle/input'):\n",
    "    for filename in filenames:\n",
    "        print(os.path.join(dirname, filename))\n",
    "\n",
    "# You can write up to 20GB to the current directory (/kaggle/working/) that gets preserved as output when you create a version using \"Save & Run All\" \n",
    "# You can also write temporary files to /kaggle/temp/, but they won't be saved outside of the current session"
   ]
  }
 ],
 "metadata": {
  "kernelspec": {
   "display_name": "Python 3",
   "language": "python",
   "name": "python3"
  },
  "language_info": {
   "codemirror_mode": {
    "name": "ipython",
    "version": 3
   },
   "file_extension": ".py",
   "mimetype": "text/x-python",
   "name": "python",
   "nbconvert_exporter": "python",
   "pygments_lexer": "ipython3",
   "version": "3.7.12"
  },
  "papermill": {
   "default_parameters": {},
   "duration": 10.917029,
   "end_time": "2023-04-12T21:19:01.352164",
   "environment_variables": {},
   "exception": null,
   "input_path": "__notebook__.ipynb",
   "output_path": "__notebook__.ipynb",
   "parameters": {},
   "start_time": "2023-04-12T21:18:50.435135",
   "version": "2.4.0"
  }
 },
 "nbformat": 4,
 "nbformat_minor": 5
}
