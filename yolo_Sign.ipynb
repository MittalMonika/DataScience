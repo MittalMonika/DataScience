{
  "nbformat": 4,
  "nbformat_minor": 0,
  "metadata": {
    "colab": {
      "provenance": [],
      "authorship_tag": "ABX9TyPrwRlzWw1o/EjtycdD9sKH",
      "include_colab_link": true
    },
    "kernelspec": {
      "name": "python3",
      "display_name": "Python 3"
    },
    "language_info": {
      "name": "python"
    }
  },
  "cells": [
    {
      "cell_type": "markdown",
      "metadata": {
        "id": "view-in-github",
        "colab_type": "text"
      },
      "source": [
        "<a href=\"https://colab.research.google.com/github/MittalMonika/DataScience/blob/master/yolo_Sign.ipynb\" target=\"_parent\"><img src=\"https://colab.research.google.com/assets/colab-badge.svg\" alt=\"Open In Colab\"/></a>"
      ]
    },
    {
      "cell_type": "markdown",
      "source": [
        "# **End-to-end  Sign extraction and summarization pipeline leveraging computer vision and natural language processing technique**\n",
        "\n",
        "Below is brief outline of the steps that need to be executed for the workflow\n",
        "\n",
        "1. Read document (pdf) from a given location.\n",
        "2. Split the document into pages and covert each page into png/jpg format and save with appropriate naming convention\n",
        "3. Use  trained&deployee YOLO model to mark table boundaries\n",
        "4. Extract sub Images by cutting those tables out of original images.\n",
        "5. Perform OCR on tables and extract the text matrix\n",
        "6. Send the text to openai and generate a summary of the table."
      ],
      "metadata": {
        "id": "LDzVfHpd7UVG"
      }
    },
    {
      "cell_type": "code",
      "execution_count": 2,
      "metadata": {
        "colab": {
          "base_uri": "https://localhost:8080/"
        },
        "id": "thl8xUts5byX",
        "outputId": "ceb547a0-ea5a-4a05-f184-a6993416e5ad"
      },
      "outputs": [
        {
          "output_type": "stream",
          "name": "stdout",
          "text": [
            "Mounted at /content/drive\n"
          ]
        }
      ],
      "source": [
        "from google.colab import drive\n",
        "drive.mount('/content/drive')"
      ]
    },
    {
      "cell_type": "code",
      "source": [
        "%cd /content/drive/MyDrive/yoloSign"
      ],
      "metadata": {
        "colab": {
          "base_uri": "https://localhost:8080/"
        },
        "id": "PTTxd07k7zEg",
        "outputId": "5ed73aa1-7b4a-4edc-a95e-2719849201f4"
      },
      "execution_count": 30,
      "outputs": [
        {
          "output_type": "stream",
          "name": "stdout",
          "text": [
            "/content/drive/MyDrive/yoloSign\n"
          ]
        }
      ]
    },
    {
      "cell_type": "markdown",
      "source": [
        "# 1. Read document (pdf) from a given location\n",
        "\n",
        "To read a document on goole colab\n",
        " that isIt is easy to upload document to google drive but To read a document that is not on Google Drive and we don't want to upload it manually each time we can use Google Colab following steps\n",
        "\n",
        "\n",
        "*   Upload Directly to google drive and note the path where the document is uploaded : go to the folder and upload the document \"/content/drive/MyDrive/yoloSign/Pdf_document/*.pdf\"\n",
        "*   If is not on Google Drive and we don't want to upload it manually each time and its availabe as a online URL document (see below)"
      ],
      "metadata": {
        "id": "Ozibjezw8l_k"
      }
    },
    {
      "cell_type": "code",
      "source": [
        "!pip install requests PyPDF2\n",
        "!pip install pytesseract\n",
        "!sudo apt install tesseract-ocr"
      ],
      "metadata": {
        "id": "i9zEtxSV8h4f"
      },
      "execution_count": null,
      "outputs": []
    },
    {
      "cell_type": "code",
      "source": [
        "constant_path = \"/content/drive/MyDrive/yoloSign/Pdf_document/\"\n",
        "\n",
        "import os\n",
        "import requests\n",
        "# URL of the PDF document\n",
        "pdf_url = \"https://www.irs.gov/pub/irs-pdf/fw4.pdf\"\n",
        "# Extracting the filename from the URL\n",
        "filename = pdf_url.split('/')[-1]\n",
        "file_path = os.path.join(constant_path, filename)\n",
        "# Check if the file already exists\n",
        "if os.path.exists(file_path):\n",
        "    print(f\"The file {filename} already exists at {file_path}. No download needed.\")\n",
        "else:\n",
        "    # Fetch the PDF content from the URL\n",
        "    response = requests.get(pdf_url)\n",
        "\n",
        "    # Check if the request was successful (status code 200)\n",
        "    if response.status_code == 200:\n",
        "        # Save the PDF to the specified directory\n",
        "        with open(file_path, 'wb') as pdf_file:\n",
        "            pdf_file.write(response.content)\n",
        "        print(f\"PDF successfully saved to {file_path}\")\n",
        "    else:\n",
        "        print(\"Failed to retrieve the PDF document.\")\n"
      ],
      "metadata": {
        "colab": {
          "base_uri": "https://localhost:8080/"
        },
        "id": "55KLmKTrEkiV",
        "outputId": "a102d588-d01b-45bf-81fb-702c2ef6c6c0"
      },
      "execution_count": 14,
      "outputs": [
        {
          "output_type": "stream",
          "name": "stdout",
          "text": [
            "The file fw4.pdf already exists at /content/drive/MyDrive/yoloSign/Pdf_document/fw4.pdf. No download needed.\n"
          ]
        }
      ]
    },
    {
      "cell_type": "code",
      "source": [
        "#document_name = \"AutomateDocument.pdf\"\n",
        "#constant_path = \"/content/drive/MyDrive/yolov7/Table-Extraction-PDF-2/\"\n",
        "#constant_path = \"/content/drive/MyDrive/yoloSign/Pdf_document/\"\n",
        "#pdf_file = constant_path + document_name\n",
        "outdir = filename.replace(\".pdf\", \"\")\n",
        "output_dir =constant_path + \"Pdf_To_Images/\" + outdir\n",
        "output_dir_ = output_dir +\"/\"\n",
        "inf_dir = output_dir_ + \"detect/\"\n",
        "\n",
        "\n",
        "specialvar = outdir+\"_Employee\"\n",
        "\n",
        "# the directory from which the weights are taken for inference\n",
        "#model_dir = \"/content/drive/MyDrive/yolov8/runs/detect/train4/weights/best.pt\"\n",
        "model_dir = \"/content/drive/MyDrive/yolov8/runs/detect/yolo8_best.pt\"\n",
        "train_data =\"/content/drive/MyDrive/yolov8/Table-Extraction-PDF-2\""
      ],
      "metadata": {
        "id": "jw6UBLRd_FdT"
      },
      "execution_count": 15,
      "outputs": []
    },
    {
      "cell_type": "code",
      "source": [
        "fpath = \"/content/drive/MyDrive/yoloSign/\"\n",
        "tpath = fpath + \"train\"\n",
        "ipath =  tpath + \"/images/\"\n",
        "lpath  = tpath + \"/labels/\"\n",
        "bpath  =  tpath + \"/box_images/\"\n",
        "\n",
        "os.makedirs(tpath, exist_ok=True)\n",
        "os.makedirs(ipath, exist_ok=True)\n",
        "os.makedirs(lpath, exist_ok=True)\n",
        "os.makedirs(bpath, exist_ok=True)"
      ],
      "metadata": {
        "id": "J3oBJPyreTRO"
      },
      "execution_count": 17,
      "outputs": []
    },
    {
      "cell_type": "markdown",
      "source": [
        "# 2. Split the document into pages and covert each page into png/jpg format and save them with appropriate naming convention\n",
        "\n",
        "*   For this we use package pdf2image and Poppler"
      ],
      "metadata": {
        "id": "5o5wJMgRF4LA"
      }
    },
    {
      "cell_type": "code",
      "source": [
        "!pip install pdf2image\n",
        "# Install Poppler\n",
        "!apt-get install poppler-utils"
      ],
      "metadata": {
        "id": "eibZEBZZF5tn"
      },
      "execution_count": null,
      "outputs": []
    },
    {
      "cell_type": "code",
      "source": [
        "from pdf2image import convert_from_path\n",
        "# Specify the PDF file path\n",
        "os.makedirs(output_dir, exist_ok=True)\n",
        "\n",
        "# Convert PDF to a list of PNG images\n",
        "images = convert_from_path(file_path)\n",
        "\n",
        "# Save PNG images to files\n",
        "for i, image in enumerate(images):\n",
        "    image.save(os.path.join(output_dir, f\"output_page_{i + 1}.png\"), \"PNG\")\n",
        "print(\"The images are saved in \", output_dir)"
      ],
      "metadata": {
        "colab": {
          "base_uri": "https://localhost:8080/"
        },
        "id": "En9HilFrGN01",
        "outputId": "5a475364-090b-4d17-fd93-dc9a6acde43a"
      },
      "execution_count": null,
      "outputs": [
        {
          "output_type": "stream",
          "name": "stdout",
          "text": [
            "The images are saved in  /content/drive/MyDrive/yoloSign/Pdf_document/Pdf_To_Images/fw4\n"
          ]
        }
      ]
    },
    {
      "cell_type": "markdown",
      "source": [
        "# Annotation or Labelling Images\n",
        "\n",
        "Labeling images for any YOLO version, requires a tool that can annotate images with bounding boxes and associate each box with a class label. There are several tools available for this purpose, each with its own set of features and user interfaces. The best tool can depend on the specific needs, such as ease of use, functionality, and compatibility with YOLO formats. There are some tools for image labeling like LabelImg, Labelbox, roboflow  and so on.\n",
        "\n",
        "Roboflow has been used for the annotation of the images for YOLO, the platform typically manages the conversion of annotation coordinates to the format required by YOLO models. YOLO uses a specific bounding box format which includes:\n",
        "\n",
        "The center of the bounding box (x, y) relative to the width and height of the image.\n",
        "The width and height of the bounding box relative to the width and height of the image.\n",
        "\n",
        "These values are normalized to be between 0 and 1. Here's the format:\n",
        "\n",
        "<class_id> <x_center> <y_center> <width> <height>\n",
        "\n",
        "Each line in a YOLO annotation .txt file corresponds to a bounding box in the respective image and follows the format mentioned above.\n",
        "\n",
        "e.g.\n",
        "\n",
        "0   0.496875 0.77578125 0.9265625 0.0828125\n",
        "\n",
        "here 0 indicates the class . we can multiclass labelling also\n"
      ],
      "metadata": {
        "id": "uEfa7-gTlhCz"
      }
    },
    {
      "cell_type": "markdown",
      "source": [
        "# Generating Simulated dataset\n",
        "\n",
        "To achieve the goal of creating a generated\\simulated dataset for YOLO training, we'll need to follow a process that involves cutting out the annotated portion of the image and then pasting it onto various sections of other documents. Let's break down the steps\n",
        "\n",
        "# Cutting the Annotated Portion from the Image\n",
        "Based on the YOLO annotation line (e.g., 0 0.51 0.33 0.27 0.50), we need to extract the corresponding part of the image. The annotation gives us the center coordinates of the bounding box, along with its width and height relative to the image size.\n",
        "\n",
        "1. **Calculate Absolute Bounding Box Coordinates**:\n",
        "      * Convert the relative coordinates to absolute pixel values based on the image size.\n",
        "      * Calculate the top-left corner of the bounding box from its center coordinates.\n",
        "2. **Crop the Image**\n",
        "      * Use these coordinates to crop the region from the image."
      ],
      "metadata": {
        "id": "T7rXW7odN4da"
      }
    },
    {
      "cell_type": "code",
      "source": [
        "from PIL import Image,ImageDraw\n",
        "\n",
        "def crop_annotation(image_path, annotation):\n",
        "    # Load the image\n",
        "    image = Image.open(image_path)\n",
        "    img_width, img_height = image.size\n",
        "\n",
        "    # Parse the annotation\n",
        "    _, x_center, y_center, width, height = map(float, annotation.split())\n",
        "\n",
        "    # Convert YOLO format to pixel values\n",
        "    box_width = width * img_width\n",
        "    box_height = height * img_height\n",
        "    x_center *= img_width\n",
        "    y_center *= img_height\n",
        "\n",
        "    # Calculate top-left corner of the bounding box\n",
        "    x1 = int(x_center - box_width / 2)\n",
        "    y1 = int(y_center - box_height / 2)\n",
        "\n",
        "    # Crop the image\n",
        "    cropped_image = image.crop((x1, y1, x1 + int(box_width), y1 + int(box_height)))\n",
        "\n",
        "    return cropped_image"
      ],
      "metadata": {
        "id": "TWE5WZY8Nn4C"
      },
      "execution_count": 31,
      "outputs": []
    },
    {
      "cell_type": "code",
      "source": [
        "label_image = \"0 0.506875 0.77578125 0.9265625 0.0898125\"\n",
        "file_path = '/content/drive/MyDrive/yoloSign/Pdf_document/Pdf_To_Images/fw4/output_page_1.png'\n",
        "cropped_image = crop_annotation(file_path,label_image)\n",
        "cropped_image.save(bpath+'/cropped_image_'+ specialvar +'.png')"
      ],
      "metadata": {
        "id": "hBmTSrVwTByf"
      },
      "execution_count": 16,
      "outputs": []
    },
    {
      "cell_type": "markdown",
      "source": [
        "# Creating a Generated Dataset\n",
        "Paste this cropped section onto various parts of other documents. Here lets start with one document\n",
        "\n",
        "**Prepare Target Documents:**\n",
        "\n",
        "  * Have a set of target documents (images) where we can paste the cropped section.\n",
        "\n",
        "**Random Placement of Cropped Section:**\n",
        "\n",
        "  * Choose random positions on these target documents to paste the cropped section.\n",
        "\n",
        "  * Ensure the pasted section fits within the boundaries of the target documents.\n",
        "\n",
        "  \n",
        "**Save the Modified Documents:**\n",
        "\n",
        "  * Save each modified document as a new image file.\n"
      ],
      "metadata": {
        "id": "D6CPhj7JUK7a"
      }
    },
    {
      "cell_type": "code",
      "source": [
        "import random\n",
        "def paste_on_background(background_path, cropped_image, output_path,output_box_path, position):\n",
        "    background = Image.open(background_path)\n",
        "    background_width, background_height = background.size\n",
        "\n",
        "    # Create a copy of the background for drawing the bounding box\n",
        "    background_with_box = background.copy()\n",
        "\n",
        "\n",
        "    # Paste the cropped image onto the background at the specified position\n",
        "    background.paste(cropped_image, position, cropped_image if cropped_image.mode == 'RGBA' else None)\n",
        "    background_with_box.paste(cropped_image, position, cropped_image if cropped_image.mode == 'RGBA' else None)\n",
        "\n",
        "\n",
        "    # Draw bounding box for visualization (optional)\n",
        "    draw = ImageDraw.Draw(background_with_box)\n",
        "    x1, y1 = position\n",
        "    x2, y2 = x1 + cropped_image.width, y1 + cropped_image.height\n",
        "    draw.rectangle([x1, y1, x2, y2], outline=\"red\")\n",
        "\n",
        "    # Save the result\n",
        "    background.save(output_image_path)\n",
        "    background_with_box.save(output_box_path.replace('.png', '_bbox.png'))\n",
        "    print(f\"Saved images to {output_image_path} and {output_box_path.replace('.png', '_bbox.png')}\")\n",
        "\n",
        "\n",
        "    # Calculate YOLO format coordinates\n",
        "    bbox_x_center = (x1 + x2) / 2 / background_width\n",
        "    bbox_y_center = (y1 + y2) / 2 / background_height\n",
        "    bbox_width = cropped_image.width / background_width\n",
        "    bbox_height = cropped_image.height / background_height\n",
        "\n",
        "    yolo_format = (bbox_x_center, bbox_y_center, bbox_width, bbox_height)\n",
        "    return yolo_format"
      ],
      "metadata": {
        "id": "p2iW08XiUtFj"
      },
      "execution_count": 32,
      "outputs": []
    },
    {
      "cell_type": "code",
      "source": [
        "label_image = \"0 0.506875 0.77578125 0.9265625 0.0898125\"\n",
        "file_path = '/content/drive/MyDrive/yoloSign/Pdf_document/Pdf_To_Images/fw4/output_page_1.png'\n",
        "cropped_image = crop_annotation(file_path,label_image)\n",
        "cropped_image.save(bpath+'/cropped_image_'+ specialvar +'.png')\n",
        "\n",
        "\n",
        "\n",
        "background_path = '/content/drive/MyDrive/yoloSign/Pdf_document/Pdf_To_Images/fw4/output_page_3.png'\n",
        "for i in range(0, 11):\n",
        "    pos_y = random.randint(40, 2000)\n",
        "    position = (100, pos_y)\n",
        "    output_image_path = f'{ipath}{specialvar}_{i}.png'\n",
        "    output_boximage_path = f'{bpath}{specialvar}_{i}.png'\n",
        "    yolo_coordinates = paste_on_background(background_path, cropped_image, output_image_path,output_boximage_path, position)\n",
        "\n",
        "    with open(f'{lpath}{specialvar}_{i}.txt', 'w') as file:\n",
        "        file.write(f\"0 {yolo_coordinates[0]} {yolo_coordinates[1]} {yolo_coordinates[2]} {yolo_coordinates[3]}\")"
      ],
      "metadata": {
        "colab": {
          "base_uri": "https://localhost:8080/"
        },
        "id": "L0nYS4rLVA1l",
        "outputId": "dd770661-13cc-46da-b8fa-bb0cf249d613"
      },
      "execution_count": 33,
      "outputs": [
        {
          "output_type": "stream",
          "name": "stdout",
          "text": [
            "Saved images to /content/drive/MyDrive/yoloSign/train/images/fw4_Employee_0.png and /content/drive/MyDrive/yoloSign/train/box_images/fw4_Employee_0_bbox.png\n",
            "Saved images to /content/drive/MyDrive/yoloSign/train/images/fw4_Employee_1.png and /content/drive/MyDrive/yoloSign/train/box_images/fw4_Employee_1_bbox.png\n",
            "Saved images to /content/drive/MyDrive/yoloSign/train/images/fw4_Employee_2.png and /content/drive/MyDrive/yoloSign/train/box_images/fw4_Employee_2_bbox.png\n",
            "Saved images to /content/drive/MyDrive/yoloSign/train/images/fw4_Employee_3.png and /content/drive/MyDrive/yoloSign/train/box_images/fw4_Employee_3_bbox.png\n",
            "Saved images to /content/drive/MyDrive/yoloSign/train/images/fw4_Employee_4.png and /content/drive/MyDrive/yoloSign/train/box_images/fw4_Employee_4_bbox.png\n",
            "Saved images to /content/drive/MyDrive/yoloSign/train/images/fw4_Employee_5.png and /content/drive/MyDrive/yoloSign/train/box_images/fw4_Employee_5_bbox.png\n",
            "Saved images to /content/drive/MyDrive/yoloSign/train/images/fw4_Employee_6.png and /content/drive/MyDrive/yoloSign/train/box_images/fw4_Employee_6_bbox.png\n",
            "Saved images to /content/drive/MyDrive/yoloSign/train/images/fw4_Employee_7.png and /content/drive/MyDrive/yoloSign/train/box_images/fw4_Employee_7_bbox.png\n",
            "Saved images to /content/drive/MyDrive/yoloSign/train/images/fw4_Employee_8.png and /content/drive/MyDrive/yoloSign/train/box_images/fw4_Employee_8_bbox.png\n",
            "Saved images to /content/drive/MyDrive/yoloSign/train/images/fw4_Employee_9.png and /content/drive/MyDrive/yoloSign/train/box_images/fw4_Employee_9_bbox.png\n",
            "Saved images to /content/drive/MyDrive/yoloSign/train/images/fw4_Employee_10.png and /content/drive/MyDrive/yoloSign/train/box_images/fw4_Employee_10_bbox.png\n"
          ]
        }
      ]
    },
    {
      "cell_type": "code",
      "source": [],
      "metadata": {
        "id": "Fz8F7oBzeCvX"
      },
      "execution_count": null,
      "outputs": []
    },
    {
      "cell_type": "code",
      "source": [],
      "metadata": {
        "id": "ojZycAMXeDA1"
      },
      "execution_count": null,
      "outputs": []
    },
    {
      "cell_type": "markdown",
      "source": [
        "# Backup"
      ],
      "metadata": {
        "id": "a35wUxAyeDPw"
      }
    },
    {
      "cell_type": "code",
      "source": [
        "from PIL import Image\n",
        "import cv2\n",
        "background_path = '/content/drive/MyDrive/yoloSign/Pdf_document/Pdf_To_Images/fw4/output_page_1.png'\n",
        "overlay_path = '/content/drive/MyDrive/yoloSign/Pdf_document/Pdf_To_Images/fw4/output_page_3.png'\n",
        "output_path = 'image_with_overlay.png'\n",
        "background = Image.open(background_path)\n",
        "overlay = Image.open(overlay_path)\n",
        "# Print out their modes\n",
        "print(f\"Background mode: {background.mode}\")\n",
        "print(f\"Overlay mode: {overlay.mode}\")\n",
        "\n",
        "# Convert overlay to 'RGBA' if it's not already\n",
        "if overlay.mode != 'RGBA':\n",
        "    overlay = overlay.convert('RGBA')\n",
        "\n",
        "\n",
        "# Calculate the new height to maintain the aspect ratio\n",
        "aspect_ratio = overlay.width / overlay.height\n",
        "new_height = int((overlay.width*0.95) / aspect_ratio)\n",
        "\n",
        "# Resize the overlay image to match the width of the background\n",
        "overlay = overlay.resize((int(overlay.width*0.95), new_height))\n",
        "\n",
        "position = (100, 1625)\n",
        "print(f\"Background size: {background.size}\")\n",
        "print(f\"Resized overlay size: {overlay.size}\")\n",
        "print(f\"Position to paste: {position}\")\n",
        "\n",
        "\n",
        "\n",
        "\n",
        "(x,y) = position\n",
        "\n",
        "box = (x,y,x+overlay.width, y+overlay.height)\n",
        "cropped_region = background.crop(box)\n",
        "pos_o_x = 100\n",
        "pos_o_y = 1625\n",
        "background.paste(cropped_region,(pos_o_x,pos_o_y))\n",
        "\n",
        "    # Paste the overlay image onto the background at the specified position\n",
        "background.paste(overlay, position, overlay)\n",
        "\n",
        "#background.paste(overlay, position,overlay)\n",
        "\n",
        "# Save the combined image\n",
        "output_path = 'image_with_overlay.png'\n",
        "background.save(output_path)\n",
        "print(f\"Image saved to {output_path}\")"
      ],
      "metadata": {
        "colab": {
          "base_uri": "https://localhost:8080/"
        },
        "id": "yLpLU08uM9J3",
        "outputId": "e0b9f1b5-3b5b-40b1-d35c-2c78ca2ebab9"
      },
      "execution_count": null,
      "outputs": [
        {
          "output_type": "stream",
          "name": "stdout",
          "text": [
            "Background mode: RGB\n",
            "Overlay mode: RGB\n",
            "Background size: (1700, 2200)\n",
            "Resized overlay size: (1615, 2090)\n",
            "Position to paste: (100, 1625)\n",
            "Image saved to image_with_overlay.png\n"
          ]
        }
      ]
    },
    {
      "cell_type": "code",
      "source": [
        "#Variable Names\n",
        "background_path = '/content/drive/MyDrive/yoloSign/Pdf_document/Pdf_To_Images/fw4/output_page_1.png'\n",
        "overlay_path = '/content/drive/MyDrive/yoloSign/Pdf_document/Pdf_To_Images/fw4/output_page_1.png'\n",
        "output_path = 'image_with_overlay.png'\n",
        "\n",
        "from PIL import Image\n",
        "import cv2\n",
        "\n",
        "def get_image_dimensions(image_path):\n",
        "    # Open the subimage using PIL/Pillow\n",
        "    image = Image.open(image_path)\n",
        "\n",
        "    # Get the width and height of the subimage\n",
        "    width, height = image.size\n",
        "\n",
        "    return width, height\n",
        "def overlay_subimage(background_path, overlay_path, output_path, position):\n",
        "    # Open the background and overlay images\n",
        "    background = Image.open(background_path)\n",
        "    overlay = Image.open(overlay_path)\n",
        "\n",
        "    # Resize the overlay image to make sure it fits within the background\n",
        "    max_width = background.width - position[0]  # Maximum width the overlay can have\n",
        "    aspect_ratio = overlay.width / overlay.height\n",
        "    new_height = int(min(overlay.height, (max_width / aspect_ratio)))\n",
        "    new_width = int(min(overlay.width, max_width))\n",
        "    overlay_resized = overlay.resize((new_width, new_height))\n",
        "\n",
        "    # Calculate the box for cropping (ensure it's within the background boundaries)\n",
        "    x, y = position\n",
        "    box_width = min(overlay_resized.width, background.width - x)\n",
        "    box_height = min(overlay_resized.height, background.height - y)\n",
        "    box = (x, y, x + box_width, y + box_height)\n",
        "\n",
        "    # Paste the resized overlay image onto the background at the specified position\n",
        "    background.paste(overlay_resized, position, overlay_resized if overlay_resized.mode == 'RGBA' else None)\n",
        "\n",
        "    # Save the result\n",
        "    background.save(output_path)\n",
        "    print(f\"Saved image to {output_path}\")\n",
        "\n",
        "\n",
        "\n",
        "\n",
        "    # Calculate bounding box parameters\n",
        "    (x,y) = position\n",
        "    height, width = background.height, background.width\n",
        "    center_x = (x + overlay.width / 2) / width\n",
        "    center_y = (y + overlay.height / 2) / height\n",
        "    normalized_width = overlay.width / width\n",
        "    normalized_height = overlay.height / height\n",
        "\n",
        "    # Express bounding box in YOLO format\n",
        "    yolo_format = (center_x, center_y, normalized_width, normalized_height)\n",
        "\n",
        "    # Save the result\n",
        "\n",
        "    return yolo_format\n",
        "\n",
        "\n",
        "def draw_bounding_box(img_path,ybox):\n",
        "    img = cv2.imread(img_path)\n",
        "    height, width, _ = img.shape\n",
        "\n",
        "    center_x, center_y, normalized_width, normalized_height = ybox\n",
        "\n",
        "    # Draw bounding box on the image for visualization\n",
        "    box_x = int((center_x - normalized_width / 2) * width)\n",
        "    box_y = int((center_y - normalized_height / 2) * height)\n",
        "    cv2.rectangle(img, (box_x, box_y), (box_x + int(normalized_width * width), box_y + int(normalized_height * height)), (0, 255, 0), 2)\n",
        "\n",
        "    return img\n",
        "\n",
        "\n",
        "\n",
        "\n",
        "\n",
        "# Example usage\n",
        "subimage_path = '/content/drive/MyDrive/yoloSign/Pdf_document/Pdf_To_Images/fw4/output_page_1.png'\n",
        "bkg_width, bkg_height = get_image_dimensions(background_path)\n",
        "\n",
        "print(\"Subimage dimensions:\", bkg_width, \"x\", bkg_height)\n",
        "\n",
        "import random\n",
        "\n",
        "pos_o_x = 100\n",
        "pos_o_y = 1625\n",
        "\n",
        "for i in range(0,11):\n",
        "    pos_y = random.randint(40,2000)\n",
        "    print(pos_y)\n",
        "    position = (100, pos_y)  # Example coordinates\n",
        "    ybox = overlay_subimage(background_path, overlay_path, output_path, position)\n",
        "    # Display the image with bounding box\n",
        "    img = draw_bounding_box(output_path, ybox)\n",
        "    cv2.imwrite('output_image_?i?.jpg'.replace('?i?',str(i)), img)\n",
        "    print(i,pos_y)\n",
        "\n",
        "#cv2.imshow('Image with bounding box', img)\n",
        "#cv2.waitKey(0)\n",
        "#cv2.destroyAllWindows()"
      ],
      "metadata": {
        "colab": {
          "base_uri": "https://localhost:8080/"
        },
        "id": "wpJRdZWiJB_a",
        "outputId": "05e53cff-4556-4064-9c43-0bb994893c8d"
      },
      "execution_count": null,
      "outputs": [
        {
          "output_type": "stream",
          "name": "stdout",
          "text": [
            "Subimage dimensions: 1700 x 2200\n",
            "1123\n",
            "100 1123 1715 3213\n",
            "0 1123\n",
            "1817\n",
            "100 1817 1715 3907\n",
            "1 1817\n",
            "746\n",
            "100 746 1715 2836\n",
            "2 746\n",
            "659\n",
            "100 659 1715 2749\n",
            "3 659\n",
            "1550\n",
            "100 1550 1715 3640\n",
            "4 1550\n",
            "1129\n",
            "100 1129 1715 3219\n",
            "5 1129\n",
            "1608\n",
            "100 1608 1715 3698\n",
            "6 1608\n",
            "1184\n",
            "100 1184 1715 3274\n",
            "7 1184\n",
            "1244\n",
            "100 1244 1715 3334\n",
            "8 1244\n",
            "765\n",
            "100 765 1715 2855\n",
            "9 765\n",
            "1544\n",
            "100 1544 1715 3634\n",
            "10 1544\n"
          ]
        }
      ]
    },
    {
      "cell_type": "code",
      "source": [
        "from PIL import Image\n",
        "background_path = '/content/drive/MyDrive/yoloSign/Pdf_document/Pdf_To_Images/fw4/output_page_1.png'\n",
        "overlay_path = '/content/drive/MyDrive/yoloSign/Pdf_document/Pdf_To_Images/fw4/output_page_1.png'\n",
        "output_path = 'image_with_overlay.png'\n",
        "\n",
        "# Load the background and overlay images to get their dimensions\n",
        "background = Image.open(background_path)\n",
        "overlay = Image.open(overlay_path)\n",
        "bkg_width, bkg_height = background.size\n",
        "\n",
        "# Resize overlay and get new dimensions\n",
        "aspect_ratio = overlay.width / overlay.height\n",
        "max_width = bkg_width - 100  # Assuming '100' is the fixed x-coordinate for the overlay\n",
        "new_height = int((overlay.width * 0.95) / aspect_ratio)\n",
        "new_width = int(min(overlay.width * 0.95, max_width))\n",
        "\n",
        "# Adjust new_height if it exceeds background boundaries\n",
        "if new_height > (bkg_height - 100):  # Assuming '100' is the minimum y-coordinate\n",
        "    new_height = bkg_height - 100\n",
        "    new_width = int(new_height * aspect_ratio)\n",
        "\n",
        "\n",
        "def overlay_subimage(background_path, overlay_path, output_path, position, new_width, new_height):\n",
        "    # Open the background and overlay images\n",
        "    background = Image.open(background_path)\n",
        "    overlay = Image.open(overlay_path)\n",
        "\n",
        "    # Resize the overlay\n",
        "    overlay_resized = overlay.resize((new_width, new_height))\n",
        "\n",
        "    # Paste the resized overlay image onto the background\n",
        "    background.paste(overlay_resized, position)\n",
        "\n",
        "\n",
        "    # Calculate bounding box parameters\n",
        "    (x,y) = position\n",
        "    height, width = background.height, background.width\n",
        "    center_x = (x + overlay.width / 2) / width\n",
        "    center_y = (y + overlay.height / 2) / height\n",
        "    normalized_width = overlay.width / width\n",
        "    normalized_height = overlay.height / height\n",
        "\n",
        "    # Express bounding box in YOLO format\n",
        "    yolo_format = (center_x, center_y, normalized_width, normalized_height)\n",
        "\n",
        "    # Save the result\n",
        "    background.save(output_path)\n",
        "    return yolo_format\n",
        "\n",
        "\n",
        "def draw_bounding_box(img_path,ybox):\n",
        "    img = cv2.imread(img_path)\n",
        "    height, width, _ = img.shape\n",
        "\n",
        "    center_x, center_y, normalized_width, normalized_height = ybox\n",
        "\n",
        "    # Draw bounding box on the image for visualization\n",
        "    box_x = int((center_x - normalized_width / 2) * width)\n",
        "    box_y = int((center_y - normalized_height / 2) * height)\n",
        "    cv2.rectangle(img, (box_x, box_y), (box_x + int(normalized_width * width), box_y + int(normalized_height * height)), (0, 255, 0), 2)\n",
        "\n",
        "    return img\n",
        "\n",
        "import random\n",
        "\n",
        "for i in range(0, 11):\n",
        "    # Ensure the overlay is always within the background boundaries\n",
        "    pos_y = random.randint(40, bkg_height - new_height)\n",
        "    position = (100, pos_y)  # Example coordinates\n",
        "\n",
        "    # Call the function to overlay the image\n",
        "    ybox = overlay_subimage(background_path, overlay_path, f'output_image_{i}.png', position,new_width, new_height)\n",
        "\n",
        "    # Display the image with bounding box\n",
        "    img = draw_bounding_box(output_path, ybox)\n",
        "    cv2.imwrite('output_image_?i?.jpg'.replace('?i?',str(i)), img)\n",
        "    print(i,pos_y)\n",
        "\n"
      ],
      "metadata": {
        "colab": {
          "base_uri": "https://localhost:8080/"
        },
        "id": "JzUwpDI1R1rs",
        "outputId": "7ae5cf50-0cfa-43a6-a58c-e1b1aac59d13"
      },
      "execution_count": null,
      "outputs": [
        {
          "output_type": "stream",
          "name": "stdout",
          "text": [
            "0 43\n",
            "1 73\n",
            "2 70\n",
            "3 108\n",
            "4 43\n",
            "5 82\n",
            "6 94\n",
            "7 40\n",
            "8 50\n",
            "9 67\n",
            "10 49\n"
          ]
        }
      ]
    },
    {
      "cell_type": "code",
      "source": [],
      "metadata": {
        "id": "VACSMhMoNPvw"
      },
      "execution_count": null,
      "outputs": []
    },
    {
      "cell_type": "code",
      "source": [
        "#Variable Names\n",
        "background_path = '/content/drive/MyDrive/yoloSign/Pdf_document/Pdf_To_Images/fw4/output_page_1.png'\n",
        "overlay_path = '/content/drive/MyDrive/yoloSign/Pdf_document/Pdf_To_Images/fw4/output_page_3.png'\n",
        "output_path = 'image_with_overlay.png'\n",
        "\n",
        "from PIL import Image\n",
        "import cv2\n",
        "\n",
        "def get_image_dimensions(image_path):\n",
        "    # Open the subimage using PIL/Pillow\n",
        "    image = Image.open(image_path)\n",
        "\n",
        "    # Get the width and height of the subimage\n",
        "    width, height = image.size\n",
        "\n",
        "    return width, height\n",
        "def overlay_subimage(background_path, overlay_path, output_path, position):\n",
        "    # Open the background and overlay images\n",
        "    background = Image.open(background_path)\n",
        "    overlay = Image.open(overlay_path)\n",
        "\n",
        "    # Resize the overlay image if necessary\n",
        "    aspect_ratio = overlay.width / overlay.height\n",
        "    new_height = int((overlay.width * 0.95) / aspect_ratio)\n",
        "    overlay_resized = overlay.resize((int(overlay.width * 0.95), new_height))\n",
        "\n",
        "    # Paste the resized overlay image onto the background at the specified position\n",
        "    background.paste(overlay_resized, position, overlay_resized if overlay_resized.mode == 'RGBA' else None)\n",
        "\n",
        "\n",
        "\n",
        "    # Calculate bounding box parameters\n",
        "    (x,y) = position\n",
        "    height, width = background.height, background.width\n",
        "    center_x = (x + overlay.width / 2) / width\n",
        "    center_y = (y + overlay.height / 2) / height\n",
        "    normalized_width = overlay.width / width\n",
        "    normalized_height = overlay.height / height\n",
        "\n",
        "    # Express bounding box in YOLO format\n",
        "    yolo_format = (center_x, center_y, normalized_width, normalized_height)\n",
        "\n",
        "    # Save the result\n",
        "    background.save(output_path)\n",
        "    return yolo_format\n",
        "\n",
        "\n",
        "def draw_bounding_box(img_path,ybox):\n",
        "    img = cv2.imread(img_path)\n",
        "    height, width, _ = img.shape\n",
        "\n",
        "    center_x, center_y, normalized_width, normalized_height = ybox\n",
        "\n",
        "    # Draw bounding box on the image for visualization\n",
        "    box_x = int((center_x - normalized_width / 2) * width)\n",
        "    box_y = int((center_y - normalized_height / 2) * height)\n",
        "    cv2.rectangle(img, (box_x, box_y), (box_x + int(normalized_width * width), box_y + int(normalized_height * height)), (0, 255, 0), 2)\n",
        "\n",
        "    return img\n",
        "\n",
        "\n",
        "\n",
        "\n",
        "\n",
        "# Example usage\n",
        "subimage_path = '/content/drive/MyDrive/yoloSign/Pdf_document/Pdf_To_Images/fw4/output_page_1.png'\n",
        "bkg_width, bkg_height = get_image_dimensions(background_path)\n",
        "\n",
        "print(\"Subimage dimensions:\", bkg_width, \"x\", bkg_height)\n",
        "\n",
        "import random\n",
        "\n",
        "pos_o_x = 100\n",
        "pos_o_y = 1625\n",
        "\n",
        "for i in range(0,11):\n",
        "    pos_y = random.randint(40,2000)\n",
        "    print(pos_y)\n",
        "    position = (100, pos_y)  # Example coordinates\n",
        "    ybox = overlay_subimage(background_path, overlay_path, output_path, position)\n",
        "    # Display the image with bounding box\n",
        "    img = draw_bounding_box(output_path, ybox)\n",
        "    cv2.imwrite('output_image_?i?.jpg'.replace('?i?',str(i)), img)\n",
        "    print(i,pos_y)\n",
        "\n",
        "#cv2.imshow('Image with bounding box', img)\n",
        "#cv2.waitKey(0)\n",
        "#cv2.destroyAllWindows()"
      ],
      "metadata": {
        "colab": {
          "base_uri": "https://localhost:8080/"
        },
        "outputId": "36f137d3-92a4-41b4-c471-570df870478a",
        "id": "1yNxqJJaNQMr"
      },
      "execution_count": null,
      "outputs": [
        {
          "output_type": "stream",
          "name": "stdout",
          "text": [
            "Subimage dimensions: 1700 x 2200\n",
            "1476\n",
            "0 1476\n",
            "1628\n",
            "1 1628\n",
            "1908\n",
            "2 1908\n",
            "326\n",
            "3 326\n",
            "674\n",
            "4 674\n",
            "892\n",
            "5 892\n",
            "1359\n",
            "6 1359\n",
            "1686\n",
            "7 1686\n",
            "1686\n",
            "8 1686\n",
            "1443\n",
            "9 1443\n",
            "469\n",
            "10 469\n"
          ]
        }
      ]
    }
  ]
}